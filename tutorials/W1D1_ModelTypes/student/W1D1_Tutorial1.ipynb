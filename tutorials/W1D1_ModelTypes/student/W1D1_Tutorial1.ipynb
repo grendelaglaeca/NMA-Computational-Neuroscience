{
  "nbformat": 4,
  "nbformat_minor": 0,
  "metadata": {
    "colab": {
      "name": "W1D1_Tutorial1",
      "provenance": [],
      "collapsed_sections": [],
      "include_colab_link": true
    },
    "kernel": {
      "display_name": "Python 3",
      "language": "python",
      "name": "python3"
    },
    "kernelspec": {
      "display_name": "Python 3",
      "name": "python3"
    },
    "language_info": {
      "codemirror_mode": {
        "name": "ipython",
        "version": 3
      },
      "file_extension": ".py",
      "mimetype": "text/x-python",
      "name": "python",
      "nbconvert_exporter": "python",
      "pygments_lexer": "ipython3",
      "version": "3.7.10"
    },
    "widgets": {
      "application/vnd.jupyter.widget-state+json": {
        "a58d9b0a12af41d089446d8ec48496d8": {
          "model_module": "@jupyter-widgets/controls",
          "model_name": "TabModel",
          "state": {
            "_view_name": "TabView",
            "_dom_classes": [],
            "_titles": {
              "0": "Youtube",
              "1": "Bilibili"
            },
            "_model_name": "TabModel",
            "_view_module": "@jupyter-widgets/controls",
            "selected_index": 0,
            "_model_module_version": "1.5.0",
            "_view_count": null,
            "_view_module_version": "1.5.0",
            "box_style": "",
            "layout": "IPY_MODEL_80abbdbbdb6148e6875d3dac34019b75",
            "_model_module": "@jupyter-widgets/controls",
            "children": [
              "IPY_MODEL_ee5111dc8bd14107bd25c08e8b6492ab",
              "IPY_MODEL_b2daea1e40e04a9fa06b11761293105b"
            ]
          }
        },
        "80abbdbbdb6148e6875d3dac34019b75": {
          "model_module": "@jupyter-widgets/base",
          "model_name": "LayoutModel",
          "state": {
            "_view_name": "LayoutView",
            "grid_template_rows": null,
            "right": null,
            "justify_content": null,
            "_view_module": "@jupyter-widgets/base",
            "overflow": null,
            "_model_module_version": "1.2.0",
            "_view_count": null,
            "flex_flow": null,
            "width": null,
            "min_width": null,
            "border": null,
            "align_items": null,
            "bottom": null,
            "_model_module": "@jupyter-widgets/base",
            "top": null,
            "grid_column": null,
            "overflow_y": null,
            "overflow_x": null,
            "grid_auto_flow": null,
            "grid_area": null,
            "grid_template_columns": null,
            "flex": null,
            "_model_name": "LayoutModel",
            "justify_items": null,
            "grid_row": null,
            "max_height": null,
            "align_content": null,
            "visibility": null,
            "align_self": null,
            "height": null,
            "min_height": null,
            "padding": null,
            "grid_auto_rows": null,
            "grid_gap": null,
            "max_width": null,
            "order": null,
            "_view_module_version": "1.2.0",
            "grid_template_areas": null,
            "object_position": null,
            "object_fit": null,
            "grid_auto_columns": null,
            "margin": null,
            "display": null,
            "left": null
          }
        },
        "ee5111dc8bd14107bd25c08e8b6492ab": {
          "model_module": "@jupyter-widgets/output",
          "model_name": "OutputModel",
          "state": {
            "_view_name": "OutputView",
            "msg_id": "",
            "_dom_classes": [],
            "_model_name": "OutputModel",
            "outputs": [
              {
                "output_type": "stream",
                "metadata": {
                  "tags": []
                },
                "text": "Video available at https://youtube.com/watch?v=KgqR_jbjMQg\n",
                "stream": "stdout"
              },
              {
                "output_type": "display_data",
                "metadata": {
                  "tags": []
                },
                "text/html": "\n        <iframe\n            width=\"854\"\n            height=\"480\"\n            src=\"https://www.youtube.com/embed/KgqR_jbjMQg?fs=1&rel=0\"\n            frameborder=\"0\"\n            allowfullscreen\n        ></iframe>\n        ",
                "text/plain": "<IPython.lib.display.YouTubeVideo at 0x7fd1ea487110>",
                "image/jpeg": "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\n"
              }
            ],
            "_view_module": "@jupyter-widgets/output",
            "_model_module_version": "1.0.0",
            "_view_count": null,
            "_view_module_version": "1.0.0",
            "layout": "IPY_MODEL_1cc5f7ce96d442429dc4317e2c146988",
            "_model_module": "@jupyter-widgets/output"
          }
        },
        "b2daea1e40e04a9fa06b11761293105b": {
          "model_module": "@jupyter-widgets/output",
          "model_name": "OutputModel",
          "state": {
            "_view_name": "OutputView",
            "msg_id": "",
            "_dom_classes": [],
            "_model_name": "OutputModel",
            "outputs": [
              {
                "output_type": "stream",
                "metadata": {
                  "tags": []
                },
                "text": "Video available at https://www.bilibili.com/video/BV1mz4y1X7ot\n",
                "stream": "stdout"
              },
              {
                "output_type": "display_data",
                "metadata": {
                  "tags": []
                },
                "text/html": "\n        <iframe\n            width=\"854\"\n            height=\"480\"\n            src=\"https://player.bilibili.com/player.html?bvid=BV1mz4y1X7ot&page=1?fs=1\"\n            frameborder=\"0\"\n            allowfullscreen\n        ></iframe>\n        ",
                "text/plain": "<__main__.BiliVideo at 0x7fd1e49fd350>"
              }
            ],
            "_view_module": "@jupyter-widgets/output",
            "_model_module_version": "1.0.0",
            "_view_count": null,
            "_view_module_version": "1.0.0",
            "layout": "IPY_MODEL_08dca87e31e84860acb495d39f5a5361",
            "_model_module": "@jupyter-widgets/output"
          }
        },
        "1cc5f7ce96d442429dc4317e2c146988": {
          "model_module": "@jupyter-widgets/base",
          "model_name": "LayoutModel",
          "state": {
            "_view_name": "LayoutView",
            "grid_template_rows": null,
            "right": null,
            "justify_content": null,
            "_view_module": "@jupyter-widgets/base",
            "overflow": null,
            "_model_module_version": "1.2.0",
            "_view_count": null,
            "flex_flow": null,
            "width": null,
            "min_width": null,
            "border": null,
            "align_items": null,
            "bottom": null,
            "_model_module": "@jupyter-widgets/base",
            "top": null,
            "grid_column": null,
            "overflow_y": null,
            "overflow_x": null,
            "grid_auto_flow": null,
            "grid_area": null,
            "grid_template_columns": null,
            "flex": null,
            "_model_name": "LayoutModel",
            "justify_items": null,
            "grid_row": null,
            "max_height": null,
            "align_content": null,
            "visibility": null,
            "align_self": null,
            "height": null,
            "min_height": null,
            "padding": null,
            "grid_auto_rows": null,
            "grid_gap": null,
            "max_width": null,
            "order": null,
            "_view_module_version": "1.2.0",
            "grid_template_areas": null,
            "object_position": null,
            "object_fit": null,
            "grid_auto_columns": null,
            "margin": null,
            "display": null,
            "left": null
          }
        },
        "08dca87e31e84860acb495d39f5a5361": {
          "model_module": "@jupyter-widgets/base",
          "model_name": "LayoutModel",
          "state": {
            "_view_name": "LayoutView",
            "grid_template_rows": null,
            "right": null,
            "justify_content": null,
            "_view_module": "@jupyter-widgets/base",
            "overflow": null,
            "_model_module_version": "1.2.0",
            "_view_count": null,
            "flex_flow": null,
            "width": null,
            "min_width": null,
            "border": null,
            "align_items": null,
            "bottom": null,
            "_model_module": "@jupyter-widgets/base",
            "top": null,
            "grid_column": null,
            "overflow_y": null,
            "overflow_x": null,
            "grid_auto_flow": null,
            "grid_area": null,
            "grid_template_columns": null,
            "flex": null,
            "_model_name": "LayoutModel",
            "justify_items": null,
            "grid_row": null,
            "max_height": null,
            "align_content": null,
            "visibility": null,
            "align_self": null,
            "height": null,
            "min_height": null,
            "padding": null,
            "grid_auto_rows": null,
            "grid_gap": null,
            "max_width": null,
            "order": null,
            "_view_module_version": "1.2.0",
            "grid_template_areas": null,
            "object_position": null,
            "object_fit": null,
            "grid_auto_columns": null,
            "margin": null,
            "display": null,
            "left": null
          }
        },
        "ec9747084c61406e9f99c4fd037a3733": {
          "model_module": "@jupyter-widgets/controls",
          "model_name": "TabModel",
          "state": {
            "_view_name": "TabView",
            "_dom_classes": [],
            "_titles": {
              "0": "Youtube",
              "1": "Bilibili"
            },
            "_model_name": "TabModel",
            "_view_module": "@jupyter-widgets/controls",
            "selected_index": 0,
            "_model_module_version": "1.5.0",
            "_view_count": null,
            "_view_module_version": "1.5.0",
            "box_style": "",
            "layout": "IPY_MODEL_8acdf8db59bc4fc69997884796391fb2",
            "_model_module": "@jupyter-widgets/controls",
            "children": [
              "IPY_MODEL_65dbdfb69e35441ca0cca5728e73bf64",
              "IPY_MODEL_3bae468bdccc439aa1fca1813b13294b"
            ]
          }
        },
        "8acdf8db59bc4fc69997884796391fb2": {
          "model_module": "@jupyter-widgets/base",
          "model_name": "LayoutModel",
          "state": {
            "_view_name": "LayoutView",
            "grid_template_rows": null,
            "right": null,
            "justify_content": null,
            "_view_module": "@jupyter-widgets/base",
            "overflow": null,
            "_model_module_version": "1.2.0",
            "_view_count": null,
            "flex_flow": null,
            "width": null,
            "min_width": null,
            "border": null,
            "align_items": null,
            "bottom": null,
            "_model_module": "@jupyter-widgets/base",
            "top": null,
            "grid_column": null,
            "overflow_y": null,
            "overflow_x": null,
            "grid_auto_flow": null,
            "grid_area": null,
            "grid_template_columns": null,
            "flex": null,
            "_model_name": "LayoutModel",
            "justify_items": null,
            "grid_row": null,
            "max_height": null,
            "align_content": null,
            "visibility": null,
            "align_self": null,
            "height": null,
            "min_height": null,
            "padding": null,
            "grid_auto_rows": null,
            "grid_gap": null,
            "max_width": null,
            "order": null,
            "_view_module_version": "1.2.0",
            "grid_template_areas": null,
            "object_position": null,
            "object_fit": null,
            "grid_auto_columns": null,
            "margin": null,
            "display": null,
            "left": null
          }
        },
        "65dbdfb69e35441ca0cca5728e73bf64": {
          "model_module": "@jupyter-widgets/output",
          "model_name": "OutputModel",
          "state": {
            "_view_name": "OutputView",
            "msg_id": "",
            "_dom_classes": [],
            "_model_name": "OutputModel",
            "outputs": [
              {
                "output_type": "stream",
                "metadata": {
                  "tags": []
                },
                "text": "Video available at https://youtube.com/watch?v=oHwYWUI_o1U\n",
                "stream": "stdout"
              },
              {
                "output_type": "display_data",
                "metadata": {
                  "tags": []
                },
                "text/html": "\n        <iframe\n            width=\"854\"\n            height=\"480\"\n            src=\"https://www.youtube.com/embed/oHwYWUI_o1U?fs=1&rel=0\"\n            frameborder=\"0\"\n            allowfullscreen\n        ></iframe>\n        ",
                "text/plain": "<IPython.lib.display.YouTubeVideo at 0x7fd1e49fd1d0>",
                "image/jpeg": "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\n"
              }
            ],
            "_view_module": "@jupyter-widgets/output",
            "_model_module_version": "1.0.0",
            "_view_count": null,
            "_view_module_version": "1.0.0",
            "layout": "IPY_MODEL_eed4e72ac5014f97a86ea22f9d28fd77",
            "_model_module": "@jupyter-widgets/output"
          }
        },
        "3bae468bdccc439aa1fca1813b13294b": {
          "model_module": "@jupyter-widgets/output",
          "model_name": "OutputModel",
          "state": {
            "_view_name": "OutputView",
            "msg_id": "",
            "_dom_classes": [],
            "_model_name": "OutputModel",
            "outputs": [
              {
                "output_type": "stream",
                "metadata": {
                  "tags": []
                },
                "text": "Video available at https://www.bilibili.com/video/BV1Hp4y1S7Au\n",
                "stream": "stdout"
              },
              {
                "output_type": "display_data",
                "metadata": {
                  "tags": []
                },
                "text/html": "\n        <iframe\n            width=\"854\"\n            height=\"480\"\n            src=\"https://player.bilibili.com/player.html?bvid=BV1Hp4y1S7Au&page=1?fs=1\"\n            frameborder=\"0\"\n            allowfullscreen\n        ></iframe>\n        ",
                "text/plain": "<__main__.BiliVideo at 0x7fd1e42e9ad0>"
              }
            ],
            "_view_module": "@jupyter-widgets/output",
            "_model_module_version": "1.0.0",
            "_view_count": null,
            "_view_module_version": "1.0.0",
            "layout": "IPY_MODEL_716ec33cf39d4774a9f07249d1b5cc45",
            "_model_module": "@jupyter-widgets/output"
          }
        },
        "eed4e72ac5014f97a86ea22f9d28fd77": {
          "model_module": "@jupyter-widgets/base",
          "model_name": "LayoutModel",
          "state": {
            "_view_name": "LayoutView",
            "grid_template_rows": null,
            "right": null,
            "justify_content": null,
            "_view_module": "@jupyter-widgets/base",
            "overflow": null,
            "_model_module_version": "1.2.0",
            "_view_count": null,
            "flex_flow": null,
            "width": null,
            "min_width": null,
            "border": null,
            "align_items": null,
            "bottom": null,
            "_model_module": "@jupyter-widgets/base",
            "top": null,
            "grid_column": null,
            "overflow_y": null,
            "overflow_x": null,
            "grid_auto_flow": null,
            "grid_area": null,
            "grid_template_columns": null,
            "flex": null,
            "_model_name": "LayoutModel",
            "justify_items": null,
            "grid_row": null,
            "max_height": null,
            "align_content": null,
            "visibility": null,
            "align_self": null,
            "height": null,
            "min_height": null,
            "padding": null,
            "grid_auto_rows": null,
            "grid_gap": null,
            "max_width": null,
            "order": null,
            "_view_module_version": "1.2.0",
            "grid_template_areas": null,
            "object_position": null,
            "object_fit": null,
            "grid_auto_columns": null,
            "margin": null,
            "display": null,
            "left": null
          }
        },
        "716ec33cf39d4774a9f07249d1b5cc45": {
          "model_module": "@jupyter-widgets/base",
          "model_name": "LayoutModel",
          "state": {
            "_view_name": "LayoutView",
            "grid_template_rows": null,
            "right": null,
            "justify_content": null,
            "_view_module": "@jupyter-widgets/base",
            "overflow": null,
            "_model_module_version": "1.2.0",
            "_view_count": null,
            "flex_flow": null,
            "width": null,
            "min_width": null,
            "border": null,
            "align_items": null,
            "bottom": null,
            "_model_module": "@jupyter-widgets/base",
            "top": null,
            "grid_column": null,
            "overflow_y": null,
            "overflow_x": null,
            "grid_auto_flow": null,
            "grid_area": null,
            "grid_template_columns": null,
            "flex": null,
            "_model_name": "LayoutModel",
            "justify_items": null,
            "grid_row": null,
            "max_height": null,
            "align_content": null,
            "visibility": null,
            "align_self": null,
            "height": null,
            "min_height": null,
            "padding": null,
            "grid_auto_rows": null,
            "grid_gap": null,
            "max_width": null,
            "order": null,
            "_view_module_version": "1.2.0",
            "grid_template_areas": null,
            "object_position": null,
            "object_fit": null,
            "grid_auto_columns": null,
            "margin": null,
            "display": null,
            "left": null
          }
        },
        "570601566fd9409288265ffe8cf9b271": {
          "model_module": "@jupyter-widgets/controls",
          "model_name": "TabModel",
          "state": {
            "_view_name": "TabView",
            "_dom_classes": [],
            "_titles": {
              "0": "Youtube",
              "1": "Bilibili"
            },
            "_model_name": "TabModel",
            "_view_module": "@jupyter-widgets/controls",
            "selected_index": 0,
            "_model_module_version": "1.5.0",
            "_view_count": null,
            "_view_module_version": "1.5.0",
            "box_style": "",
            "layout": "IPY_MODEL_fc2206dc812c4cf58917ac7842c8db93",
            "_model_module": "@jupyter-widgets/controls",
            "children": [
              "IPY_MODEL_1f04da13ce7e45488bf9577f4b14af08",
              "IPY_MODEL_12fbfa2a68ee4f9d906195a3ee131183"
            ]
          }
        },
        "fc2206dc812c4cf58917ac7842c8db93": {
          "model_module": "@jupyter-widgets/base",
          "model_name": "LayoutModel",
          "state": {
            "_view_name": "LayoutView",
            "grid_template_rows": null,
            "right": null,
            "justify_content": null,
            "_view_module": "@jupyter-widgets/base",
            "overflow": null,
            "_model_module_version": "1.2.0",
            "_view_count": null,
            "flex_flow": null,
            "width": null,
            "min_width": null,
            "border": null,
            "align_items": null,
            "bottom": null,
            "_model_module": "@jupyter-widgets/base",
            "top": null,
            "grid_column": null,
            "overflow_y": null,
            "overflow_x": null,
            "grid_auto_flow": null,
            "grid_area": null,
            "grid_template_columns": null,
            "flex": null,
            "_model_name": "LayoutModel",
            "justify_items": null,
            "grid_row": null,
            "max_height": null,
            "align_content": null,
            "visibility": null,
            "align_self": null,
            "height": null,
            "min_height": null,
            "padding": null,
            "grid_auto_rows": null,
            "grid_gap": null,
            "max_width": null,
            "order": null,
            "_view_module_version": "1.2.0",
            "grid_template_areas": null,
            "object_position": null,
            "object_fit": null,
            "grid_auto_columns": null,
            "margin": null,
            "display": null,
            "left": null
          }
        },
        "1f04da13ce7e45488bf9577f4b14af08": {
          "model_module": "@jupyter-widgets/output",
          "model_name": "OutputModel",
          "state": {
            "_view_name": "OutputView",
            "msg_id": "",
            "_dom_classes": [],
            "_model_name": "OutputModel",
            "outputs": [
              {
                "output_type": "stream",
                "metadata": {
                  "tags": []
                },
                "text": "Video available at https://youtube.com/watch?v=QGA5FCW7kkA\n",
                "stream": "stdout"
              },
              {
                "output_type": "display_data",
                "metadata": {
                  "tags": []
                },
                "text/html": "\n        <iframe\n            width=\"854\"\n            height=\"480\"\n            src=\"https://www.youtube.com/embed/QGA5FCW7kkA?fs=1&rel=0\"\n            frameborder=\"0\"\n            allowfullscreen\n        ></iframe>\n        ",
                "text/plain": "<IPython.lib.display.YouTubeVideo at 0x7fd1db73c410>",
                "image/jpeg": "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\n"
              }
            ],
            "_view_module": "@jupyter-widgets/output",
            "_model_module_version": "1.0.0",
            "_view_count": null,
            "_view_module_version": "1.0.0",
            "layout": "IPY_MODEL_7d9c72cd4d874fcf8f221b9c76b61830",
            "_model_module": "@jupyter-widgets/output"
          }
        },
        "12fbfa2a68ee4f9d906195a3ee131183": {
          "model_module": "@jupyter-widgets/output",
          "model_name": "OutputModel",
          "state": {
            "_view_name": "OutputView",
            "msg_id": "",
            "_dom_classes": [],
            "_model_name": "OutputModel",
            "outputs": [
              {
                "output_type": "stream",
                "metadata": {
                  "tags": []
                },
                "text": "Video available at https://www.bilibili.com/video/BV1dt4y1Q7C5\n",
                "stream": "stdout"
              },
              {
                "output_type": "display_data",
                "metadata": {
                  "tags": []
                },
                "text/html": "\n        <iframe\n            width=\"854\"\n            height=\"480\"\n            src=\"https://player.bilibili.com/player.html?bvid=BV1dt4y1Q7C5&page=1?fs=1\"\n            frameborder=\"0\"\n            allowfullscreen\n        ></iframe>\n        ",
                "text/plain": "<__main__.BiliVideo at 0x7fd1db73c0d0>"
              }
            ],
            "_view_module": "@jupyter-widgets/output",
            "_model_module_version": "1.0.0",
            "_view_count": null,
            "_view_module_version": "1.0.0",
            "layout": "IPY_MODEL_a3c03cde7a0b4fd4bd7e9e4212cf9e01",
            "_model_module": "@jupyter-widgets/output"
          }
        },
        "7d9c72cd4d874fcf8f221b9c76b61830": {
          "model_module": "@jupyter-widgets/base",
          "model_name": "LayoutModel",
          "state": {
            "_view_name": "LayoutView",
            "grid_template_rows": null,
            "right": null,
            "justify_content": null,
            "_view_module": "@jupyter-widgets/base",
            "overflow": null,
            "_model_module_version": "1.2.0",
            "_view_count": null,
            "flex_flow": null,
            "width": null,
            "min_width": null,
            "border": null,
            "align_items": null,
            "bottom": null,
            "_model_module": "@jupyter-widgets/base",
            "top": null,
            "grid_column": null,
            "overflow_y": null,
            "overflow_x": null,
            "grid_auto_flow": null,
            "grid_area": null,
            "grid_template_columns": null,
            "flex": null,
            "_model_name": "LayoutModel",
            "justify_items": null,
            "grid_row": null,
            "max_height": null,
            "align_content": null,
            "visibility": null,
            "align_self": null,
            "height": null,
            "min_height": null,
            "padding": null,
            "grid_auto_rows": null,
            "grid_gap": null,
            "max_width": null,
            "order": null,
            "_view_module_version": "1.2.0",
            "grid_template_areas": null,
            "object_position": null,
            "object_fit": null,
            "grid_auto_columns": null,
            "margin": null,
            "display": null,
            "left": null
          }
        },
        "a3c03cde7a0b4fd4bd7e9e4212cf9e01": {
          "model_module": "@jupyter-widgets/base",
          "model_name": "LayoutModel",
          "state": {
            "_view_name": "LayoutView",
            "grid_template_rows": null,
            "right": null,
            "justify_content": null,
            "_view_module": "@jupyter-widgets/base",
            "overflow": null,
            "_model_module_version": "1.2.0",
            "_view_count": null,
            "flex_flow": null,
            "width": null,
            "min_width": null,
            "border": null,
            "align_items": null,
            "bottom": null,
            "_model_module": "@jupyter-widgets/base",
            "top": null,
            "grid_column": null,
            "overflow_y": null,
            "overflow_x": null,
            "grid_auto_flow": null,
            "grid_area": null,
            "grid_template_columns": null,
            "flex": null,
            "_model_name": "LayoutModel",
            "justify_items": null,
            "grid_row": null,
            "max_height": null,
            "align_content": null,
            "visibility": null,
            "align_self": null,
            "height": null,
            "min_height": null,
            "padding": null,
            "grid_auto_rows": null,
            "grid_gap": null,
            "max_width": null,
            "order": null,
            "_view_module_version": "1.2.0",
            "grid_template_areas": null,
            "object_position": null,
            "object_fit": null,
            "grid_auto_columns": null,
            "margin": null,
            "display": null,
            "left": null
          }
        },
        "8b511decd3944c3aa1f34afce783c837": {
          "model_module": "@jupyter-widgets/controls",
          "model_name": "TabModel",
          "state": {
            "_view_name": "TabView",
            "_dom_classes": [],
            "_titles": {
              "0": "Youtube",
              "1": "Bilibili"
            },
            "_model_name": "TabModel",
            "_view_module": "@jupyter-widgets/controls",
            "selected_index": 0,
            "_model_module_version": "1.5.0",
            "_view_count": null,
            "_view_module_version": "1.5.0",
            "box_style": "",
            "layout": "IPY_MODEL_cb0e45e0f6504f47b25c8945f6f75d51",
            "_model_module": "@jupyter-widgets/controls",
            "children": [
              "IPY_MODEL_217207672ed84111a1d92fa5a2a58890",
              "IPY_MODEL_78fd918484b34c1187aa29a5e708a2aa"
            ]
          }
        },
        "cb0e45e0f6504f47b25c8945f6f75d51": {
          "model_module": "@jupyter-widgets/base",
          "model_name": "LayoutModel",
          "state": {
            "_view_name": "LayoutView",
            "grid_template_rows": null,
            "right": null,
            "justify_content": null,
            "_view_module": "@jupyter-widgets/base",
            "overflow": null,
            "_model_module_version": "1.2.0",
            "_view_count": null,
            "flex_flow": null,
            "width": null,
            "min_width": null,
            "border": null,
            "align_items": null,
            "bottom": null,
            "_model_module": "@jupyter-widgets/base",
            "top": null,
            "grid_column": null,
            "overflow_y": null,
            "overflow_x": null,
            "grid_auto_flow": null,
            "grid_area": null,
            "grid_template_columns": null,
            "flex": null,
            "_model_name": "LayoutModel",
            "justify_items": null,
            "grid_row": null,
            "max_height": null,
            "align_content": null,
            "visibility": null,
            "align_self": null,
            "height": null,
            "min_height": null,
            "padding": null,
            "grid_auto_rows": null,
            "grid_gap": null,
            "max_width": null,
            "order": null,
            "_view_module_version": "1.2.0",
            "grid_template_areas": null,
            "object_position": null,
            "object_fit": null,
            "grid_auto_columns": null,
            "margin": null,
            "display": null,
            "left": null
          }
        },
        "217207672ed84111a1d92fa5a2a58890": {
          "model_module": "@jupyter-widgets/output",
          "model_name": "OutputModel",
          "state": {
            "_view_name": "OutputView",
            "msg_id": "",
            "_dom_classes": [],
            "_model_name": "OutputModel",
            "outputs": [
              {
                "output_type": "stream",
                "metadata": {
                  "tags": []
                },
                "text": "Video available at https://youtube.com/watch?v=DHhM80MOTe8\n",
                "stream": "stdout"
              },
              {
                "output_type": "display_data",
                "metadata": {
                  "tags": []
                },
                "text/html": "\n        <iframe\n            width=\"854\"\n            height=\"480\"\n            src=\"https://www.youtube.com/embed/DHhM80MOTe8?fs=1&rel=0\"\n            frameborder=\"0\"\n            allowfullscreen\n        ></iframe>\n        ",
                "text/plain": "<IPython.lib.display.YouTubeVideo at 0x7fd1db656810>",
                "image/jpeg": "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\n"
              }
            ],
            "_view_module": "@jupyter-widgets/output",
            "_model_module_version": "1.0.0",
            "_view_count": null,
            "_view_module_version": "1.0.0",
            "layout": "IPY_MODEL_170a87a449ef40dfbdcc5e1d301b85bc",
            "_model_module": "@jupyter-widgets/output"
          }
        },
        "78fd918484b34c1187aa29a5e708a2aa": {
          "model_module": "@jupyter-widgets/output",
          "model_name": "OutputModel",
          "state": {
            "_view_name": "OutputView",
            "msg_id": "",
            "_dom_classes": [],
            "_model_name": "OutputModel",
            "outputs": [
              {
                "output_type": "stream",
                "metadata": {
                  "tags": []
                },
                "text": "Video available at https://www.bilibili.com/video/BV1ov411B7Pm\n",
                "stream": "stdout"
              },
              {
                "output_type": "display_data",
                "metadata": {
                  "tags": []
                },
                "text/html": "\n        <iframe\n            width=\"854\"\n            height=\"480\"\n            src=\"https://player.bilibili.com/player.html?bvid=BV1ov411B7Pm&page=1?fs=1\"\n            frameborder=\"0\"\n            allowfullscreen\n        ></iframe>\n        ",
                "text/plain": "<__main__.BiliVideo at 0x7fd1db8e41d0>"
              }
            ],
            "_view_module": "@jupyter-widgets/output",
            "_model_module_version": "1.0.0",
            "_view_count": null,
            "_view_module_version": "1.0.0",
            "layout": "IPY_MODEL_ec951a6d10d042c99d20d9c6f8a53c43",
            "_model_module": "@jupyter-widgets/output"
          }
        },
        "170a87a449ef40dfbdcc5e1d301b85bc": {
          "model_module": "@jupyter-widgets/base",
          "model_name": "LayoutModel",
          "state": {
            "_view_name": "LayoutView",
            "grid_template_rows": null,
            "right": null,
            "justify_content": null,
            "_view_module": "@jupyter-widgets/base",
            "overflow": null,
            "_model_module_version": "1.2.0",
            "_view_count": null,
            "flex_flow": null,
            "width": null,
            "min_width": null,
            "border": null,
            "align_items": null,
            "bottom": null,
            "_model_module": "@jupyter-widgets/base",
            "top": null,
            "grid_column": null,
            "overflow_y": null,
            "overflow_x": null,
            "grid_auto_flow": null,
            "grid_area": null,
            "grid_template_columns": null,
            "flex": null,
            "_model_name": "LayoutModel",
            "justify_items": null,
            "grid_row": null,
            "max_height": null,
            "align_content": null,
            "visibility": null,
            "align_self": null,
            "height": null,
            "min_height": null,
            "padding": null,
            "grid_auto_rows": null,
            "grid_gap": null,
            "max_width": null,
            "order": null,
            "_view_module_version": "1.2.0",
            "grid_template_areas": null,
            "object_position": null,
            "object_fit": null,
            "grid_auto_columns": null,
            "margin": null,
            "display": null,
            "left": null
          }
        },
        "ec951a6d10d042c99d20d9c6f8a53c43": {
          "model_module": "@jupyter-widgets/base",
          "model_name": "LayoutModel",
          "state": {
            "_view_name": "LayoutView",
            "grid_template_rows": null,
            "right": null,
            "justify_content": null,
            "_view_module": "@jupyter-widgets/base",
            "overflow": null,
            "_model_module_version": "1.2.0",
            "_view_count": null,
            "flex_flow": null,
            "width": null,
            "min_width": null,
            "border": null,
            "align_items": null,
            "bottom": null,
            "_model_module": "@jupyter-widgets/base",
            "top": null,
            "grid_column": null,
            "overflow_y": null,
            "overflow_x": null,
            "grid_auto_flow": null,
            "grid_area": null,
            "grid_template_columns": null,
            "flex": null,
            "_model_name": "LayoutModel",
            "justify_items": null,
            "grid_row": null,
            "max_height": null,
            "align_content": null,
            "visibility": null,
            "align_self": null,
            "height": null,
            "min_height": null,
            "padding": null,
            "grid_auto_rows": null,
            "grid_gap": null,
            "max_width": null,
            "order": null,
            "_view_module_version": "1.2.0",
            "grid_template_areas": null,
            "object_position": null,
            "object_fit": null,
            "grid_auto_columns": null,
            "margin": null,
            "display": null,
            "left": null
          }
        },
        "7ef9ef9377d14132a7a8b842c749bffc": {
          "model_module": "@jupyter-widgets/controls",
          "model_name": "VBoxModel",
          "state": {
            "_view_name": "VBoxView",
            "_dom_classes": [
              "widget-interact"
            ],
            "_model_name": "VBoxModel",
            "_view_module": "@jupyter-widgets/controls",
            "_model_module_version": "1.5.0",
            "_view_count": null,
            "_view_module_version": "1.5.0",
            "box_style": "",
            "layout": "IPY_MODEL_6071c95a3f094431b9b654a7e3404a80",
            "_model_module": "@jupyter-widgets/controls",
            "children": [
              "IPY_MODEL_bd16352ea07d44629f003c409b804473",
              "IPY_MODEL_d577e0c39a6741d8af0842d8a0cd41d7",
              "IPY_MODEL_ca511884bfe3416c8be4c28e30325373",
              "IPY_MODEL_9005e25760eb4a47945d45b7f47a3e94",
              "IPY_MODEL_f4123551c53f4d488f6cf9e1791a2ac6",
              "IPY_MODEL_45b5045ce8f14fcfb2ffe818ebd57f44",
              "IPY_MODEL_edf4d0241bda4fcb859e89024427b01a",
              "IPY_MODEL_175ed1e3e59f4d96b314df273b9f6e0e"
            ]
          }
        },
        "6071c95a3f094431b9b654a7e3404a80": {
          "model_module": "@jupyter-widgets/base",
          "model_name": "LayoutModel",
          "state": {
            "_view_name": "LayoutView",
            "grid_template_rows": null,
            "right": null,
            "justify_content": null,
            "_view_module": "@jupyter-widgets/base",
            "overflow": null,
            "_model_module_version": "1.2.0",
            "_view_count": null,
            "flex_flow": null,
            "width": null,
            "min_width": null,
            "border": null,
            "align_items": null,
            "bottom": null,
            "_model_module": "@jupyter-widgets/base",
            "top": null,
            "grid_column": null,
            "overflow_y": null,
            "overflow_x": null,
            "grid_auto_flow": null,
            "grid_area": null,
            "grid_template_columns": null,
            "flex": null,
            "_model_name": "LayoutModel",
            "justify_items": null,
            "grid_row": null,
            "max_height": null,
            "align_content": null,
            "visibility": null,
            "align_self": null,
            "height": null,
            "min_height": null,
            "padding": null,
            "grid_auto_rows": null,
            "grid_gap": null,
            "max_width": null,
            "order": null,
            "_view_module_version": "1.2.0",
            "grid_template_areas": null,
            "object_position": null,
            "object_fit": null,
            "grid_auto_columns": null,
            "margin": null,
            "display": null,
            "left": null
          }
        },
        "bd16352ea07d44629f003c409b804473": {
          "model_module": "@jupyter-widgets/controls",
          "model_name": "FloatSliderModel",
          "state": {
            "_view_name": "FloatSliderView",
            "style": "IPY_MODEL_0dd7594f985445fbb7427f15aadfb67b",
            "_dom_classes": [],
            "description": "exp_scale",
            "step": 250,
            "_model_name": "FloatSliderModel",
            "orientation": "horizontal",
            "max": 20000,
            "_view_module": "@jupyter-widgets/controls",
            "_model_module_version": "1.5.0",
            "value": 1000,
            "_view_count": null,
            "disabled": false,
            "_view_module_version": "1.5.0",
            "min": 0,
            "continuous_update": true,
            "readout_format": ".2f",
            "description_tooltip": null,
            "readout": true,
            "_model_module": "@jupyter-widgets/controls",
            "layout": "IPY_MODEL_48b55881cce241309cb99c146701f211"
          }
        },
        "d577e0c39a6741d8af0842d8a0cd41d7": {
          "model_module": "@jupyter-widgets/controls",
          "model_name": "FloatSliderModel",
          "state": {
            "_view_name": "FloatSliderView",
            "style": "IPY_MODEL_48464085c07d46988007df02e801b007",
            "_dom_classes": [],
            "description": "exp_rate",
            "step": 1,
            "_model_name": "FloatSliderModel",
            "orientation": "horizontal",
            "max": 50,
            "_view_module": "@jupyter-widgets/controls",
            "_model_module_version": "1.5.0",
            "value": -32,
            "_view_count": null,
            "disabled": false,
            "_view_module_version": "1.5.0",
            "min": -200,
            "continuous_update": true,
            "readout_format": ".2f",
            "description_tooltip": null,
            "readout": true,
            "_model_module": "@jupyter-widgets/controls",
            "layout": "IPY_MODEL_333d38c0bc1d4315a654fd9b6d2013d8"
          }
        },
        "ca511884bfe3416c8be4c28e30325373": {
          "model_module": "@jupyter-widgets/controls",
          "model_name": "FloatSliderModel",
          "state": {
            "_view_name": "FloatSliderView",
            "style": "IPY_MODEL_7d99d63401ea4ff09f272937f177832e",
            "_dom_classes": [],
            "description": "exp_x0",
            "step": 0.005,
            "_model_name": "FloatSliderModel",
            "orientation": "horizontal",
            "max": 0.5,
            "_view_module": "@jupyter-widgets/controls",
            "_model_module_version": "1.5.0",
            "value": 0.1,
            "_view_count": null,
            "disabled": false,
            "_view_module_version": "1.5.0",
            "min": -0.5,
            "continuous_update": true,
            "readout_format": ".2f",
            "description_tooltip": null,
            "readout": true,
            "_model_module": "@jupyter-widgets/controls",
            "layout": "IPY_MODEL_f0c9441c0c5c4c8caeeb218fe5c39443"
          }
        },
        "9005e25760eb4a47945d45b7f47a3e94": {
          "model_module": "@jupyter-widgets/controls",
          "model_name": "FloatSliderModel",
          "state": {
            "_view_name": "FloatSliderView",
            "style": "IPY_MODEL_06b5ad28a3824bf3a99df09522d3b793",
            "_dom_classes": [],
            "description": "inv_scale",
            "step": 10,
            "_model_name": "FloatSliderModel",
            "orientation": "horizontal",
            "max": 300,
            "_view_module": "@jupyter-widgets/controls",
            "_model_module_version": "1.5.0",
            "value": 300,
            "_view_count": null,
            "disabled": false,
            "_view_module_version": "1.5.0",
            "min": 0,
            "continuous_update": true,
            "readout_format": ".2f",
            "description_tooltip": null,
            "readout": true,
            "_model_module": "@jupyter-widgets/controls",
            "layout": "IPY_MODEL_8628d6dff5ed465c8ba41433bc29c5ab"
          }
        },
        "f4123551c53f4d488f6cf9e1791a2ac6": {
          "model_module": "@jupyter-widgets/controls",
          "model_name": "FloatSliderModel",
          "state": {
            "_view_name": "FloatSliderView",
            "style": "IPY_MODEL_b06d9ced906c43409805c11ab35f8646",
            "_dom_classes": [],
            "description": "inv_x0",
            "step": 0.01,
            "_model_name": "FloatSliderModel",
            "orientation": "horizontal",
            "max": 0.2,
            "_view_module": "@jupyter-widgets/controls",
            "_model_module_version": "1.5.0",
            "value": 0,
            "_view_count": null,
            "disabled": false,
            "_view_module_version": "1.5.0",
            "min": -0.2,
            "continuous_update": true,
            "readout_format": ".2f",
            "description_tooltip": null,
            "readout": true,
            "_model_module": "@jupyter-widgets/controls",
            "layout": "IPY_MODEL_2761e6dfd23842448dbde1538d3a0ff0"
          }
        },
        "45b5045ce8f14fcfb2ffe818ebd57f44": {
          "model_module": "@jupyter-widgets/controls",
          "model_name": "FloatSliderModel",
          "state": {
            "_view_name": "FloatSliderView",
            "style": "IPY_MODEL_082c71f8d07e493da08f14be3f95caf8",
            "_dom_classes": [],
            "description": "lin_slope",
            "step": 10000,
            "_model_name": "FloatSliderModel",
            "orientation": "horizontal",
            "max": 100000,
            "_view_module": "@jupyter-widgets/controls",
            "_model_module_version": "1.5.0",
            "value": -100000,
            "_view_count": null,
            "disabled": false,
            "_view_module_version": "1.5.0",
            "min": -600000,
            "continuous_update": true,
            "readout_format": ".2f",
            "description_tooltip": null,
            "readout": true,
            "_model_module": "@jupyter-widgets/controls",
            "layout": "IPY_MODEL_cd89ba0971b143a9b52d550d30024c9e"
          }
        },
        "edf4d0241bda4fcb859e89024427b01a": {
          "model_module": "@jupyter-widgets/controls",
          "model_name": "FloatSliderModel",
          "state": {
            "_view_name": "FloatSliderView",
            "style": "IPY_MODEL_b0ccfdf001114c668abec05c4704be0c",
            "_dom_classes": [],
            "description": "lin_y0",
            "step": 1000,
            "_model_name": "FloatSliderModel",
            "orientation": "horizontal",
            "max": 40000,
            "_view_module": "@jupyter-widgets/controls",
            "_model_module_version": "1.5.0",
            "value": 27000,
            "_view_count": null,
            "disabled": false,
            "_view_module_version": "1.5.0",
            "min": 0,
            "continuous_update": true,
            "readout_format": ".2f",
            "description_tooltip": null,
            "readout": true,
            "_model_module": "@jupyter-widgets/controls",
            "layout": "IPY_MODEL_2fafcb1036874883ba9d53877ac82dea"
          }
        },
        "175ed1e3e59f4d96b314df273b9f6e0e": {
          "model_module": "@jupyter-widgets/output",
          "model_name": "OutputModel",
          "state": {
            "_view_name": "OutputView",
            "msg_id": "",
            "_dom_classes": [],
            "_model_name": "OutputModel",
            "outputs": [
              {
                "output_type": "display_data",
                "metadata": {
                  "tags": [],
                  "image/png": {
                    "width": 558,
                    "height": 413
                  },
                  "needs_background": "light"
                },
                "image/png": "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\n",
                "text/plain": "<Figure size 576x432 with 1 Axes>"
              }
            ],
            "_view_module": "@jupyter-widgets/output",
            "_model_module_version": "1.0.0",
            "_view_count": null,
            "_view_module_version": "1.0.0",
            "layout": "IPY_MODEL_b8acdf21728e423193df4760901f1de1",
            "_model_module": "@jupyter-widgets/output"
          }
        },
        "0dd7594f985445fbb7427f15aadfb67b": {
          "model_module": "@jupyter-widgets/controls",
          "model_name": "SliderStyleModel",
          "state": {
            "_view_name": "StyleView",
            "handle_color": null,
            "_model_name": "SliderStyleModel",
            "description_width": "",
            "_view_module": "@jupyter-widgets/base",
            "_model_module_version": "1.5.0",
            "_view_count": null,
            "_view_module_version": "1.2.0",
            "_model_module": "@jupyter-widgets/controls"
          }
        },
        "48b55881cce241309cb99c146701f211": {
          "model_module": "@jupyter-widgets/base",
          "model_name": "LayoutModel",
          "state": {
            "_view_name": "LayoutView",
            "grid_template_rows": null,
            "right": null,
            "justify_content": null,
            "_view_module": "@jupyter-widgets/base",
            "overflow": null,
            "_model_module_version": "1.2.0",
            "_view_count": null,
            "flex_flow": null,
            "width": null,
            "min_width": null,
            "border": null,
            "align_items": null,
            "bottom": null,
            "_model_module": "@jupyter-widgets/base",
            "top": null,
            "grid_column": null,
            "overflow_y": null,
            "overflow_x": null,
            "grid_auto_flow": null,
            "grid_area": null,
            "grid_template_columns": null,
            "flex": null,
            "_model_name": "LayoutModel",
            "justify_items": null,
            "grid_row": null,
            "max_height": null,
            "align_content": null,
            "visibility": null,
            "align_self": null,
            "height": null,
            "min_height": null,
            "padding": null,
            "grid_auto_rows": null,
            "grid_gap": null,
            "max_width": null,
            "order": null,
            "_view_module_version": "1.2.0",
            "grid_template_areas": null,
            "object_position": null,
            "object_fit": null,
            "grid_auto_columns": null,
            "margin": null,
            "display": null,
            "left": null
          }
        },
        "48464085c07d46988007df02e801b007": {
          "model_module": "@jupyter-widgets/controls",
          "model_name": "SliderStyleModel",
          "state": {
            "_view_name": "StyleView",
            "handle_color": null,
            "_model_name": "SliderStyleModel",
            "description_width": "",
            "_view_module": "@jupyter-widgets/base",
            "_model_module_version": "1.5.0",
            "_view_count": null,
            "_view_module_version": "1.2.0",
            "_model_module": "@jupyter-widgets/controls"
          }
        },
        "333d38c0bc1d4315a654fd9b6d2013d8": {
          "model_module": "@jupyter-widgets/base",
          "model_name": "LayoutModel",
          "state": {
            "_view_name": "LayoutView",
            "grid_template_rows": null,
            "right": null,
            "justify_content": null,
            "_view_module": "@jupyter-widgets/base",
            "overflow": null,
            "_model_module_version": "1.2.0",
            "_view_count": null,
            "flex_flow": null,
            "width": null,
            "min_width": null,
            "border": null,
            "align_items": null,
            "bottom": null,
            "_model_module": "@jupyter-widgets/base",
            "top": null,
            "grid_column": null,
            "overflow_y": null,
            "overflow_x": null,
            "grid_auto_flow": null,
            "grid_area": null,
            "grid_template_columns": null,
            "flex": null,
            "_model_name": "LayoutModel",
            "justify_items": null,
            "grid_row": null,
            "max_height": null,
            "align_content": null,
            "visibility": null,
            "align_self": null,
            "height": null,
            "min_height": null,
            "padding": null,
            "grid_auto_rows": null,
            "grid_gap": null,
            "max_width": null,
            "order": null,
            "_view_module_version": "1.2.0",
            "grid_template_areas": null,
            "object_position": null,
            "object_fit": null,
            "grid_auto_columns": null,
            "margin": null,
            "display": null,
            "left": null
          }
        },
        "7d99d63401ea4ff09f272937f177832e": {
          "model_module": "@jupyter-widgets/controls",
          "model_name": "SliderStyleModel",
          "state": {
            "_view_name": "StyleView",
            "handle_color": null,
            "_model_name": "SliderStyleModel",
            "description_width": "",
            "_view_module": "@jupyter-widgets/base",
            "_model_module_version": "1.5.0",
            "_view_count": null,
            "_view_module_version": "1.2.0",
            "_model_module": "@jupyter-widgets/controls"
          }
        },
        "f0c9441c0c5c4c8caeeb218fe5c39443": {
          "model_module": "@jupyter-widgets/base",
          "model_name": "LayoutModel",
          "state": {
            "_view_name": "LayoutView",
            "grid_template_rows": null,
            "right": null,
            "justify_content": null,
            "_view_module": "@jupyter-widgets/base",
            "overflow": null,
            "_model_module_version": "1.2.0",
            "_view_count": null,
            "flex_flow": null,
            "width": null,
            "min_width": null,
            "border": null,
            "align_items": null,
            "bottom": null,
            "_model_module": "@jupyter-widgets/base",
            "top": null,
            "grid_column": null,
            "overflow_y": null,
            "overflow_x": null,
            "grid_auto_flow": null,
            "grid_area": null,
            "grid_template_columns": null,
            "flex": null,
            "_model_name": "LayoutModel",
            "justify_items": null,
            "grid_row": null,
            "max_height": null,
            "align_content": null,
            "visibility": null,
            "align_self": null,
            "height": null,
            "min_height": null,
            "padding": null,
            "grid_auto_rows": null,
            "grid_gap": null,
            "max_width": null,
            "order": null,
            "_view_module_version": "1.2.0",
            "grid_template_areas": null,
            "object_position": null,
            "object_fit": null,
            "grid_auto_columns": null,
            "margin": null,
            "display": null,
            "left": null
          }
        },
        "06b5ad28a3824bf3a99df09522d3b793": {
          "model_module": "@jupyter-widgets/controls",
          "model_name": "SliderStyleModel",
          "state": {
            "_view_name": "StyleView",
            "handle_color": null,
            "_model_name": "SliderStyleModel",
            "description_width": "",
            "_view_module": "@jupyter-widgets/base",
            "_model_module_version": "1.5.0",
            "_view_count": null,
            "_view_module_version": "1.2.0",
            "_model_module": "@jupyter-widgets/controls"
          }
        },
        "8628d6dff5ed465c8ba41433bc29c5ab": {
          "model_module": "@jupyter-widgets/base",
          "model_name": "LayoutModel",
          "state": {
            "_view_name": "LayoutView",
            "grid_template_rows": null,
            "right": null,
            "justify_content": null,
            "_view_module": "@jupyter-widgets/base",
            "overflow": null,
            "_model_module_version": "1.2.0",
            "_view_count": null,
            "flex_flow": null,
            "width": null,
            "min_width": null,
            "border": null,
            "align_items": null,
            "bottom": null,
            "_model_module": "@jupyter-widgets/base",
            "top": null,
            "grid_column": null,
            "overflow_y": null,
            "overflow_x": null,
            "grid_auto_flow": null,
            "grid_area": null,
            "grid_template_columns": null,
            "flex": null,
            "_model_name": "LayoutModel",
            "justify_items": null,
            "grid_row": null,
            "max_height": null,
            "align_content": null,
            "visibility": null,
            "align_self": null,
            "height": null,
            "min_height": null,
            "padding": null,
            "grid_auto_rows": null,
            "grid_gap": null,
            "max_width": null,
            "order": null,
            "_view_module_version": "1.2.0",
            "grid_template_areas": null,
            "object_position": null,
            "object_fit": null,
            "grid_auto_columns": null,
            "margin": null,
            "display": null,
            "left": null
          }
        },
        "b06d9ced906c43409805c11ab35f8646": {
          "model_module": "@jupyter-widgets/controls",
          "model_name": "SliderStyleModel",
          "state": {
            "_view_name": "StyleView",
            "handle_color": null,
            "_model_name": "SliderStyleModel",
            "description_width": "",
            "_view_module": "@jupyter-widgets/base",
            "_model_module_version": "1.5.0",
            "_view_count": null,
            "_view_module_version": "1.2.0",
            "_model_module": "@jupyter-widgets/controls"
          }
        },
        "2761e6dfd23842448dbde1538d3a0ff0": {
          "model_module": "@jupyter-widgets/base",
          "model_name": "LayoutModel",
          "state": {
            "_view_name": "LayoutView",
            "grid_template_rows": null,
            "right": null,
            "justify_content": null,
            "_view_module": "@jupyter-widgets/base",
            "overflow": null,
            "_model_module_version": "1.2.0",
            "_view_count": null,
            "flex_flow": null,
            "width": null,
            "min_width": null,
            "border": null,
            "align_items": null,
            "bottom": null,
            "_model_module": "@jupyter-widgets/base",
            "top": null,
            "grid_column": null,
            "overflow_y": null,
            "overflow_x": null,
            "grid_auto_flow": null,
            "grid_area": null,
            "grid_template_columns": null,
            "flex": null,
            "_model_name": "LayoutModel",
            "justify_items": null,
            "grid_row": null,
            "max_height": null,
            "align_content": null,
            "visibility": null,
            "align_self": null,
            "height": null,
            "min_height": null,
            "padding": null,
            "grid_auto_rows": null,
            "grid_gap": null,
            "max_width": null,
            "order": null,
            "_view_module_version": "1.2.0",
            "grid_template_areas": null,
            "object_position": null,
            "object_fit": null,
            "grid_auto_columns": null,
            "margin": null,
            "display": null,
            "left": null
          }
        },
        "082c71f8d07e493da08f14be3f95caf8": {
          "model_module": "@jupyter-widgets/controls",
          "model_name": "SliderStyleModel",
          "state": {
            "_view_name": "StyleView",
            "handle_color": null,
            "_model_name": "SliderStyleModel",
            "description_width": "",
            "_view_module": "@jupyter-widgets/base",
            "_model_module_version": "1.5.0",
            "_view_count": null,
            "_view_module_version": "1.2.0",
            "_model_module": "@jupyter-widgets/controls"
          }
        },
        "cd89ba0971b143a9b52d550d30024c9e": {
          "model_module": "@jupyter-widgets/base",
          "model_name": "LayoutModel",
          "state": {
            "_view_name": "LayoutView",
            "grid_template_rows": null,
            "right": null,
            "justify_content": null,
            "_view_module": "@jupyter-widgets/base",
            "overflow": null,
            "_model_module_version": "1.2.0",
            "_view_count": null,
            "flex_flow": null,
            "width": null,
            "min_width": null,
            "border": null,
            "align_items": null,
            "bottom": null,
            "_model_module": "@jupyter-widgets/base",
            "top": null,
            "grid_column": null,
            "overflow_y": null,
            "overflow_x": null,
            "grid_auto_flow": null,
            "grid_area": null,
            "grid_template_columns": null,
            "flex": null,
            "_model_name": "LayoutModel",
            "justify_items": null,
            "grid_row": null,
            "max_height": null,
            "align_content": null,
            "visibility": null,
            "align_self": null,
            "height": null,
            "min_height": null,
            "padding": null,
            "grid_auto_rows": null,
            "grid_gap": null,
            "max_width": null,
            "order": null,
            "_view_module_version": "1.2.0",
            "grid_template_areas": null,
            "object_position": null,
            "object_fit": null,
            "grid_auto_columns": null,
            "margin": null,
            "display": null,
            "left": null
          }
        },
        "b0ccfdf001114c668abec05c4704be0c": {
          "model_module": "@jupyter-widgets/controls",
          "model_name": "SliderStyleModel",
          "state": {
            "_view_name": "StyleView",
            "handle_color": null,
            "_model_name": "SliderStyleModel",
            "description_width": "",
            "_view_module": "@jupyter-widgets/base",
            "_model_module_version": "1.5.0",
            "_view_count": null,
            "_view_module_version": "1.2.0",
            "_model_module": "@jupyter-widgets/controls"
          }
        },
        "2fafcb1036874883ba9d53877ac82dea": {
          "model_module": "@jupyter-widgets/base",
          "model_name": "LayoutModel",
          "state": {
            "_view_name": "LayoutView",
            "grid_template_rows": null,
            "right": null,
            "justify_content": null,
            "_view_module": "@jupyter-widgets/base",
            "overflow": null,
            "_model_module_version": "1.2.0",
            "_view_count": null,
            "flex_flow": null,
            "width": null,
            "min_width": null,
            "border": null,
            "align_items": null,
            "bottom": null,
            "_model_module": "@jupyter-widgets/base",
            "top": null,
            "grid_column": null,
            "overflow_y": null,
            "overflow_x": null,
            "grid_auto_flow": null,
            "grid_area": null,
            "grid_template_columns": null,
            "flex": null,
            "_model_name": "LayoutModel",
            "justify_items": null,
            "grid_row": null,
            "max_height": null,
            "align_content": null,
            "visibility": null,
            "align_self": null,
            "height": null,
            "min_height": null,
            "padding": null,
            "grid_auto_rows": null,
            "grid_gap": null,
            "max_width": null,
            "order": null,
            "_view_module_version": "1.2.0",
            "grid_template_areas": null,
            "object_position": null,
            "object_fit": null,
            "grid_auto_columns": null,
            "margin": null,
            "display": null,
            "left": null
          }
        },
        "b8acdf21728e423193df4760901f1de1": {
          "model_module": "@jupyter-widgets/base",
          "model_name": "LayoutModel",
          "state": {
            "_view_name": "LayoutView",
            "grid_template_rows": null,
            "right": null,
            "justify_content": null,
            "_view_module": "@jupyter-widgets/base",
            "overflow": null,
            "_model_module_version": "1.2.0",
            "_view_count": null,
            "flex_flow": null,
            "width": null,
            "min_width": null,
            "border": null,
            "align_items": null,
            "bottom": null,
            "_model_module": "@jupyter-widgets/base",
            "top": null,
            "grid_column": null,
            "overflow_y": null,
            "overflow_x": null,
            "grid_auto_flow": null,
            "grid_area": null,
            "grid_template_columns": null,
            "flex": null,
            "_model_name": "LayoutModel",
            "justify_items": null,
            "grid_row": null,
            "max_height": null,
            "align_content": null,
            "visibility": null,
            "align_self": null,
            "height": null,
            "min_height": null,
            "padding": null,
            "grid_auto_rows": null,
            "grid_gap": null,
            "max_width": null,
            "order": null,
            "_view_module_version": "1.2.0",
            "grid_template_areas": null,
            "object_position": null,
            "object_fit": null,
            "grid_auto_columns": null,
            "margin": null,
            "display": null,
            "left": null
          }
        },
        "c8558c76211f498c8e20979c9672074d": {
          "model_module": "@jupyter-widgets/controls",
          "model_name": "TabModel",
          "state": {
            "_view_name": "TabView",
            "_dom_classes": [],
            "_titles": {
              "0": "Youtube",
              "1": "Bilibili"
            },
            "_model_name": "TabModel",
            "_view_module": "@jupyter-widgets/controls",
            "selected_index": 0,
            "_model_module_version": "1.5.0",
            "_view_count": null,
            "_view_module_version": "1.5.0",
            "box_style": "",
            "layout": "IPY_MODEL_aa9753010109444cb8a1be6762495a17",
            "_model_module": "@jupyter-widgets/controls",
            "children": [
              "IPY_MODEL_ccf1302f75d74d65955a7d23e4750e0c",
              "IPY_MODEL_cc21cee6caed43f49227db0771501f1f"
            ]
          }
        },
        "aa9753010109444cb8a1be6762495a17": {
          "model_module": "@jupyter-widgets/base",
          "model_name": "LayoutModel",
          "state": {
            "_view_name": "LayoutView",
            "grid_template_rows": null,
            "right": null,
            "justify_content": null,
            "_view_module": "@jupyter-widgets/base",
            "overflow": null,
            "_model_module_version": "1.2.0",
            "_view_count": null,
            "flex_flow": null,
            "width": null,
            "min_width": null,
            "border": null,
            "align_items": null,
            "bottom": null,
            "_model_module": "@jupyter-widgets/base",
            "top": null,
            "grid_column": null,
            "overflow_y": null,
            "overflow_x": null,
            "grid_auto_flow": null,
            "grid_area": null,
            "grid_template_columns": null,
            "flex": null,
            "_model_name": "LayoutModel",
            "justify_items": null,
            "grid_row": null,
            "max_height": null,
            "align_content": null,
            "visibility": null,
            "align_self": null,
            "height": null,
            "min_height": null,
            "padding": null,
            "grid_auto_rows": null,
            "grid_gap": null,
            "max_width": null,
            "order": null,
            "_view_module_version": "1.2.0",
            "grid_template_areas": null,
            "object_position": null,
            "object_fit": null,
            "grid_auto_columns": null,
            "margin": null,
            "display": null,
            "left": null
          }
        },
        "ccf1302f75d74d65955a7d23e4750e0c": {
          "model_module": "@jupyter-widgets/output",
          "model_name": "OutputModel",
          "state": {
            "_view_name": "OutputView",
            "msg_id": "",
            "_dom_classes": [],
            "_model_name": "OutputModel",
            "outputs": [
              {
                "output_type": "stream",
                "metadata": {
                  "tags": []
                },
                "text": "Video available at https://youtube.com/watch?v=uW2HDk_4-wk\n",
                "stream": "stdout"
              },
              {
                "output_type": "display_data",
                "metadata": {
                  "tags": []
                },
                "text/html": "\n        <iframe\n            width=\"854\"\n            height=\"480\"\n            src=\"https://www.youtube.com/embed/uW2HDk_4-wk?fs=1&rel=0\"\n            frameborder=\"0\"\n            allowfullscreen\n        ></iframe>\n        ",
                "text/plain": "<IPython.lib.display.YouTubeVideo at 0x7fd1dbcbedd0>",
                "image/jpeg": "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\n"
              }
            ],
            "_view_module": "@jupyter-widgets/output",
            "_model_module_version": "1.0.0",
            "_view_count": null,
            "_view_module_version": "1.0.0",
            "layout": "IPY_MODEL_bd8b213d02c844a8bdb58e1ee49b509b",
            "_model_module": "@jupyter-widgets/output"
          }
        },
        "cc21cee6caed43f49227db0771501f1f": {
          "model_module": "@jupyter-widgets/output",
          "model_name": "OutputModel",
          "state": {
            "_view_name": "OutputView",
            "msg_id": "",
            "_dom_classes": [],
            "_model_name": "OutputModel",
            "outputs": [
              {
                "output_type": "stream",
                "metadata": {
                  "tags": []
                },
                "text": "Video available at https://www.bilibili.com/video/BV1w54y1S7Eb\n",
                "stream": "stdout"
              },
              {
                "output_type": "display_data",
                "metadata": {
                  "tags": []
                },
                "text/html": "\n        <iframe\n            width=\"854\"\n            height=\"480\"\n            src=\"https://player.bilibili.com/player.html?bvid=BV1w54y1S7Eb&page=1?fs=1\"\n            frameborder=\"0\"\n            allowfullscreen\n        ></iframe>\n        ",
                "text/plain": "<__main__.BiliVideo at 0x7fd1dbd04710>"
              }
            ],
            "_view_module": "@jupyter-widgets/output",
            "_model_module_version": "1.0.0",
            "_view_count": null,
            "_view_module_version": "1.0.0",
            "layout": "IPY_MODEL_e09451942d674857ab018e3ee87b0ce6",
            "_model_module": "@jupyter-widgets/output"
          }
        },
        "bd8b213d02c844a8bdb58e1ee49b509b": {
          "model_module": "@jupyter-widgets/base",
          "model_name": "LayoutModel",
          "state": {
            "_view_name": "LayoutView",
            "grid_template_rows": null,
            "right": null,
            "justify_content": null,
            "_view_module": "@jupyter-widgets/base",
            "overflow": null,
            "_model_module_version": "1.2.0",
            "_view_count": null,
            "flex_flow": null,
            "width": null,
            "min_width": null,
            "border": null,
            "align_items": null,
            "bottom": null,
            "_model_module": "@jupyter-widgets/base",
            "top": null,
            "grid_column": null,
            "overflow_y": null,
            "overflow_x": null,
            "grid_auto_flow": null,
            "grid_area": null,
            "grid_template_columns": null,
            "flex": null,
            "_model_name": "LayoutModel",
            "justify_items": null,
            "grid_row": null,
            "max_height": null,
            "align_content": null,
            "visibility": null,
            "align_self": null,
            "height": null,
            "min_height": null,
            "padding": null,
            "grid_auto_rows": null,
            "grid_gap": null,
            "max_width": null,
            "order": null,
            "_view_module_version": "1.2.0",
            "grid_template_areas": null,
            "object_position": null,
            "object_fit": null,
            "grid_auto_columns": null,
            "margin": null,
            "display": null,
            "left": null
          }
        },
        "e09451942d674857ab018e3ee87b0ce6": {
          "model_module": "@jupyter-widgets/base",
          "model_name": "LayoutModel",
          "state": {
            "_view_name": "LayoutView",
            "grid_template_rows": null,
            "right": null,
            "justify_content": null,
            "_view_module": "@jupyter-widgets/base",
            "overflow": null,
            "_model_module_version": "1.2.0",
            "_view_count": null,
            "flex_flow": null,
            "width": null,
            "min_width": null,
            "border": null,
            "align_items": null,
            "bottom": null,
            "_model_module": "@jupyter-widgets/base",
            "top": null,
            "grid_column": null,
            "overflow_y": null,
            "overflow_x": null,
            "grid_auto_flow": null,
            "grid_area": null,
            "grid_template_columns": null,
            "flex": null,
            "_model_name": "LayoutModel",
            "justify_items": null,
            "grid_row": null,
            "max_height": null,
            "align_content": null,
            "visibility": null,
            "align_self": null,
            "height": null,
            "min_height": null,
            "padding": null,
            "grid_auto_rows": null,
            "grid_gap": null,
            "max_width": null,
            "order": null,
            "_view_module_version": "1.2.0",
            "grid_template_areas": null,
            "object_position": null,
            "object_fit": null,
            "grid_auto_columns": null,
            "margin": null,
            "display": null,
            "left": null
          }
        }
      }
    }
  },
  "cells": [
    {
      "cell_type": "markdown",
      "metadata": {
        "id": "view-in-github",
        "colab_type": "text"
      },
      "source": [
        "<a href=\"https://colab.research.google.com/github/grendelaglaeca/NMA-Computational-Neuroscience/blob/main/tutorials/W1D1_ModelTypes/student/W1D1_Tutorial1.ipynb\" target=\"_parent\"><img src=\"https://colab.research.google.com/assets/colab-badge.svg\" alt=\"Open In Colab\"/></a>"
      ]
    },
    {
      "cell_type": "markdown",
      "metadata": {
        "id": "oZEUr7rGuUgu"
      },
      "source": [
        "# Tutorial 1: \"What\" models\n",
        "**Week 1, Day 1: Model Types**\n",
        "\n",
        "**By Neuromatch Academy**\n",
        "\n",
        "__Content creators:__ Matt Laporte, Byron Galbraith, Konrad Kording\n",
        "\n",
        "__Content reviewers:__ Dalin Guo, Aishwarya Balwani, Madineh Sarvestani, Maryam Vaziri-Pashkam, Michael Waskom, Ella Batty\n",
        "\n",
        "We would like to acknowledge [Steinmetz _et al._ (2019)](https://www.nature.com/articles/s41586-019-1787-x) for sharing their data, a subset of which is used here.\n"
      ]
    },
    {
      "cell_type": "markdown",
      "metadata": {
        "id": "ObN0DLuIuUgz"
      },
      "source": [
        "**Our 2021 Sponsors, including Presenting Sponsor Facebook Reality Labs**\n",
        "\n",
        "<p align='center'><img src='https://github.com/NeuromatchAcademy/widgets/blob/master/sponsors.png?raw=True'/></p>"
      ]
    },
    {
      "cell_type": "markdown",
      "metadata": {
        "id": "DaveLqa6uUg3"
      },
      "source": [
        "___\n",
        "# Tutorial Objectives\n",
        "\n",
        "*Estimated timing of tutorial: 50 minutes*\n",
        "\n",
        "This is tutorial 1 of a 3-part series on different flavors of models used to understand neural data. In this tutorial we will explore 'What' models, used to describe the data. To understand what our data looks like, we will visualize it in different ways. Then we will compare it to simple mathematical models. Specifically, we will:\n",
        "\n",
        "- Load a dataset with spiking activity from hundreds of neurons and understand how it is organized\n",
        "- Make plots to visualize characteristics of the spiking activity across the population\n",
        "- Compute the distribution of \"inter-spike intervals\" (ISIs) for a single neuron\n",
        "- Consider several formal models of this distribution's shape and fit them to the data \"by hand\""
      ]
    },
    {
      "cell_type": "code",
      "metadata": {
        "cellView": "form",
        "execution": {
          "iopub.execute_input": "2021-07-03T17:54:16.068512Z",
          "iopub.status.busy": "2021-07-03T17:54:16.067851Z",
          "iopub.status.idle": "2021-07-03T17:54:16.078805Z",
          "shell.execute_reply": "2021-07-03T17:54:16.079308Z"
        },
        "id": "dQ1TzrH-uUg6"
      },
      "source": [
        "# @title Tutorial slides\n",
        "\n",
        "# @markdown These are the slides for the videos in all tutorials today\n",
        "from IPython.display import IFrame\n",
        "IFrame(src=f\"https://mfr.ca-1.osf.io/render?url=https://osf.io/6dxwe/?direct%26mode=render%26action=download%26mode=render\", width=854, height=480)"
      ],
      "execution_count": null,
      "outputs": []
    },
    {
      "cell_type": "code",
      "metadata": {
        "cellView": "form",
        "execution": {
          "iopub.execute_input": "2021-07-03T17:54:16.087459Z",
          "iopub.status.busy": "2021-07-03T17:54:16.086818Z",
          "iopub.status.idle": "2021-07-03T17:54:16.200795Z",
          "shell.execute_reply": "2021-07-03T17:54:16.198330Z"
        },
        "colab": {
          "base_uri": "https://localhost:8080/",
          "height": 582,
          "referenced_widgets": [
            "a58d9b0a12af41d089446d8ec48496d8",
            "80abbdbbdb6148e6875d3dac34019b75",
            "ee5111dc8bd14107bd25c08e8b6492ab",
            "b2daea1e40e04a9fa06b11761293105b",
            "1cc5f7ce96d442429dc4317e2c146988",
            "08dca87e31e84860acb495d39f5a5361"
          ]
        },
        "id": "sz-VFqj_uUg8",
        "outputId": "7742f6df-f962-4f39-c0ea-3ebf4ea12c5a"
      },
      "source": [
        "# @title Video 1: \"What\" Models\n",
        "from ipywidgets import widgets\n",
        "\n",
        "out2 = widgets.Output()\n",
        "with out2:\n",
        "  from IPython.display import IFrame\n",
        "  class BiliVideo(IFrame):\n",
        "      def __init__(self, id, page=1, width=400, height=300, **kwargs):\n",
        "          self.id=id\n",
        "          src = 'https://player.bilibili.com/player.html?bvid={0}&page={1}'.format(id, page)\n",
        "          super(BiliVideo, self).__init__(src, width, height, **kwargs)\n",
        "\n",
        "  video = BiliVideo(id=\"BV1mz4y1X7ot\", width=854, height=480, fs=1)\n",
        "  print('Video available at https://www.bilibili.com/video/{0}'.format(video.id))\n",
        "  display(video)\n",
        "\n",
        "out1 = widgets.Output()\n",
        "with out1:\n",
        "  from IPython.display import YouTubeVideo\n",
        "  video = YouTubeVideo(id=\"KgqR_jbjMQg\", width=854, height=480, fs=1, rel=0)\n",
        "  print('Video available at https://youtube.com/watch?v=' + video.id)\n",
        "  display(video)\n",
        "\n",
        "out = widgets.Tab([out1, out2])\n",
        "out.set_title(0, 'Youtube')\n",
        "out.set_title(1, 'Bilibili')\n",
        "\n",
        "display(out)"
      ],
      "execution_count": 2,
      "outputs": [
        {
          "output_type": "display_data",
          "data": {
            "application/vnd.jupyter.widget-view+json": {
              "model_id": "a58d9b0a12af41d089446d8ec48496d8",
              "version_minor": 0,
              "version_major": 2
            },
            "text/plain": [
              "Tab(children=(Output(), Output()), _titles={'0': 'Youtube', '1': 'Bilibili'})"
            ]
          },
          "metadata": {
            "tags": []
          }
        }
      ]
    },
    {
      "cell_type": "markdown",
      "metadata": {
        "id": "PRz5ajBHuUg_"
      },
      "source": [
        "# Setup\n",
        "\n"
      ]
    },
    {
      "cell_type": "markdown",
      "metadata": {
        "id": "SZYVR8iiuUhB"
      },
      "source": [
        "Python requires you to explictly \"import\" libraries before their functions are available to use. We will always specify our imports at the beginning of each notebook or script."
      ]
    },
    {
      "cell_type": "code",
      "metadata": {
        "execution": {
          "iopub.execute_input": "2021-07-03T17:54:16.207642Z",
          "iopub.status.busy": "2021-07-03T17:54:16.207031Z",
          "iopub.status.idle": "2021-07-03T17:54:18.019171Z",
          "shell.execute_reply": "2021-07-03T17:54:18.018238Z"
        },
        "pycharm": {
          "name": "#%%\n"
        },
        "id": "6Q7lX74puUhE"
      },
      "source": [
        "import numpy as np\n",
        "import matplotlib.pyplot as plt"
      ],
      "execution_count": 8,
      "outputs": []
    },
    {
      "cell_type": "markdown",
      "metadata": {
        "id": "3rhAlU7UuUhG"
      },
      "source": [
        "Tutorial notebooks typically begin with several set-up steps that are hidden from view by default.\n",
        "\n",
        "**Important:** Even though the code is hidden, you still need to run it so that the rest of the notebook can work properly. Step through each cell, either by pressing the play button in the upper-left-hand corner or with a keyboard shortcut (`Cmd-Return` on a Mac, `Ctrl-Enter` otherwise). A number will appear inside the brackets (e.g. `[3]`) to tell you that the cell was executed and what order that happened in.\n",
        "\n",
        "If you are curious to see what is going on inside each cell, you can double click to expand. Once expanded, double-click the white space to the right of the editor to collapse again."
      ]
    },
    {
      "cell_type": "code",
      "metadata": {
        "cellView": "form",
        "execution": {
          "iopub.execute_input": "2021-07-03T17:54:18.035304Z",
          "iopub.status.busy": "2021-07-03T17:54:18.031341Z",
          "iopub.status.idle": "2021-07-03T17:54:18.199819Z",
          "shell.execute_reply": "2021-07-03T17:54:18.200358Z"
        },
        "pycharm": {
          "name": "#%%\n"
        },
        "id": "_Pa6f5y7uUhJ"
      },
      "source": [
        "# @title Figure Settings\n",
        "import ipywidgets as widgets #interactive display\n",
        "\n",
        "%matplotlib inline\n",
        "%config InlineBackend.figure_format = 'retina'\n",
        "plt.style.use(\"https://raw.githubusercontent.com/NeuromatchAcademy/course-content/master/nma.mplstyle\")"
      ],
      "execution_count": 4,
      "outputs": []
    },
    {
      "cell_type": "code",
      "metadata": {
        "cellView": "form",
        "execution": {
          "iopub.execute_input": "2021-07-03T17:54:18.206360Z",
          "iopub.status.busy": "2021-07-03T17:54:18.202786Z",
          "iopub.status.idle": "2021-07-03T17:54:18.209079Z",
          "shell.execute_reply": "2021-07-03T17:54:18.209943Z"
        },
        "id": "LrEdQ6lwuUhL"
      },
      "source": [
        "# @title Plotting functions\n",
        "\n",
        "def plot_isis(single_neuron_isis):\n",
        "  plt.hist(single_neuron_isis, bins=50, histtype=\"stepfilled\")\n",
        "  plt.axvline(single_neuron_isis.mean(), color=\"orange\", label=\"Mean ISI\")\n",
        "  plt.xlabel(\"ISI duration (s)\")\n",
        "  plt.ylabel(\"Number of spikes\")\n",
        "  plt.legend()"
      ],
      "execution_count": 5,
      "outputs": []
    },
    {
      "cell_type": "code",
      "metadata": {
        "cellView": "form",
        "execution": {
          "iopub.execute_input": "2021-07-03T17:54:18.216099Z",
          "iopub.status.busy": "2021-07-03T17:54:18.215112Z",
          "iopub.status.idle": "2021-07-03T17:54:20.671000Z",
          "shell.execute_reply": "2021-07-03T17:54:20.671442Z"
        },
        "pycharm": {
          "name": "#%%\n"
        },
        "id": "ceUUYiVQuUhM"
      },
      "source": [
        "#@title Data retrieval\n",
        "#@markdown This cell downloads the example dataset that we will use in this tutorial.\n",
        "import io\n",
        "import requests\n",
        "r = requests.get('https://osf.io/sy5xt/download')\n",
        "if r.status_code != 200:\n",
        "  print('Failed to download data')\n",
        "else:\n",
        "  spike_times = np.load(io.BytesIO(r.content), allow_pickle=True)['spike_times']"
      ],
      "execution_count": 6,
      "outputs": []
    },
    {
      "cell_type": "markdown",
      "metadata": {
        "id": "ug_Nprs2uUhN"
      },
      "source": [
        "---\n",
        "\n",
        "# Section 1: Exploring the Steinmetz dataset\n",
        "\n",
        "In this tutorial we will explore the structure of a neuroscience dataset.\n",
        "\n",
        "We consider a subset of data from a study of [Steinmetz _et al._ (2019)](https://www.nature.com/articles/s41586-019-1787-x). In this study, Neuropixels probes were implanted in the brains of mice. Electrical potentials were measured by hundreds of electrodes along the length of each probe. Each electrode's measurements captured local variations in the electric field due to nearby spiking neurons. A spike sorting algorithm was used to infer spike times and cluster spikes according to common origin: a single cluster of sorted spikes is causally attributed to a single neuron.\n",
        "\n",
        "In particular, a single recording session of spike times and neuron assignments was loaded and assigned to `spike_times` in the preceding setup.\n",
        "\n",
        "Typically a dataset comes with some information about its structure. However, this information may be incomplete. You might also apply some transformations or \"pre-processing\" to create a working representation of the data of interest, which might go partly undocumented depending on the circumstances. In any case it is important to be able to use the available tools to investigate unfamiliar aspects of a data structure.\n",
        "\n",
        "Let's see what our data looks like..."
      ]
    },
    {
      "cell_type": "markdown",
      "metadata": {
        "id": "WfAgjaepuUhO"
      },
      "source": [
        "## Section 1.1: Warming up with `spike_times`"
      ]
    },
    {
      "cell_type": "markdown",
      "metadata": {
        "id": "WR15JVaPuUhP"
      },
      "source": [
        "What is the Python type of our variable?"
      ]
    },
    {
      "cell_type": "code",
      "metadata": {
        "execution": {
          "iopub.execute_input": "2021-07-03T17:54:20.676871Z",
          "iopub.status.busy": "2021-07-03T17:54:20.676106Z",
          "iopub.status.idle": "2021-07-03T17:54:20.682191Z",
          "shell.execute_reply": "2021-07-03T17:54:20.681644Z"
        },
        "pycharm": {
          "name": "#%%\n"
        },
        "colab": {
          "base_uri": "https://localhost:8080/"
        },
        "id": "VsKTzLauuUhR",
        "outputId": "d37196f3-4de4-4051-874e-8e2cf56011ea"
      },
      "source": [
        "type(spike_times)"
      ],
      "execution_count": 7,
      "outputs": [
        {
          "output_type": "execute_result",
          "data": {
            "text/plain": [
              "numpy.ndarray"
            ]
          },
          "metadata": {
            "tags": []
          },
          "execution_count": 7
        }
      ]
    },
    {
      "cell_type": "markdown",
      "metadata": {
        "id": "kZl5Ql3HuUhS"
      },
      "source": [
        "You should see `numpy.ndarray`, which means that it's a normal NumPy array.\n",
        "\n",
        "If you see an error message, it probably means that you did not execute the set-up cells at the top of the notebook. So go ahead and make sure to do that.\n",
        "\n",
        "Once everything is running properly, we can ask the next question about the dataset: what's its shape?"
      ]
    },
    {
      "cell_type": "code",
      "metadata": {
        "execution": {
          "iopub.execute_input": "2021-07-03T17:54:20.686733Z",
          "iopub.status.busy": "2021-07-03T17:54:20.686101Z",
          "iopub.status.idle": "2021-07-03T17:54:20.691916Z",
          "shell.execute_reply": "2021-07-03T17:54:20.692367Z"
        },
        "pycharm": {
          "name": "#%%\n"
        },
        "colab": {
          "base_uri": "https://localhost:8080/"
        },
        "id": "uVCwJ-V1uUhU",
        "outputId": "89b170a2-9f5e-4e51-bc28-815ee8a8a234"
      },
      "source": [
        "spike_times.shape"
      ],
      "execution_count": 9,
      "outputs": [
        {
          "output_type": "execute_result",
          "data": {
            "text/plain": [
              "(734,)"
            ]
          },
          "metadata": {
            "tags": []
          },
          "execution_count": 9
        }
      ]
    },
    {
      "cell_type": "markdown",
      "metadata": {
        "id": "YIfBkq9suUhV"
      },
      "source": [
        "There are 734 entries in one dimension, and no other dimensions. What is the Python type of the first entry, and what is *its* shape?"
      ]
    },
    {
      "cell_type": "code",
      "metadata": {
        "execution": {
          "iopub.execute_input": "2021-07-03T17:54:20.697800Z",
          "iopub.status.busy": "2021-07-03T17:54:20.697199Z",
          "iopub.status.idle": "2021-07-03T17:54:20.701384Z",
          "shell.execute_reply": "2021-07-03T17:54:20.700890Z"
        },
        "pycharm": {
          "name": "#%%\n"
        },
        "colab": {
          "base_uri": "https://localhost:8080/"
        },
        "id": "-aThgGNwuUhW",
        "outputId": "da6e3b63-bd8e-4ffc-9367-63b8256be3bd"
      },
      "source": [
        "idx = 0\n",
        "print(\n",
        "  type(spike_times[idx]),\n",
        "  spike_times[idx].shape,\n",
        "  sep=\"\\n\",\n",
        ")"
      ],
      "execution_count": 10,
      "outputs": [
        {
          "output_type": "stream",
          "text": [
            "<class 'numpy.ndarray'>\n",
            "(826,)\n"
          ],
          "name": "stdout"
        }
      ]
    },
    {
      "cell_type": "markdown",
      "metadata": {
        "id": "nWsGldSxuUhX"
      },
      "source": [
        "It's also a NumPy array with a 1D shape! Why didn't this show up as a second dimension in the shape of `spike_times`? That is, why not `spike_times.shape == (734, 826)`?\n",
        "\n",
        "To investigate, let's check another entry."
      ]
    },
    {
      "cell_type": "code",
      "metadata": {
        "execution": {
          "iopub.execute_input": "2021-07-03T17:54:20.710021Z",
          "iopub.status.busy": "2021-07-03T17:54:20.707287Z",
          "iopub.status.idle": "2021-07-03T17:54:20.712941Z",
          "shell.execute_reply": "2021-07-03T17:54:20.712371Z"
        },
        "pycharm": {
          "name": "#%%\n"
        },
        "colab": {
          "base_uri": "https://localhost:8080/"
        },
        "id": "6x8yeuNBuUhY",
        "outputId": "69ac85bc-4418-4f74-a6c8-f12f724eae67"
      },
      "source": [
        "idx = 321\n",
        "print(\n",
        "  type(spike_times[idx]),\n",
        "  spike_times[idx].shape,\n",
        "  sep=\"\\n\",\n",
        ")"
      ],
      "execution_count": 11,
      "outputs": [
        {
          "output_type": "stream",
          "text": [
            "<class 'numpy.ndarray'>\n",
            "(9723,)\n"
          ],
          "name": "stdout"
        }
      ]
    },
    {
      "cell_type": "markdown",
      "metadata": {
        "id": "K2PEBUDXuUhZ"
      },
      "source": [
        "It's also a 1D NumPy array, but it has a different shape. Checking the NumPy types of the values in these arrays, and their first few elements, we see they are composed of floating point numbers (not another level of `np.ndarray`):"
      ]
    },
    {
      "cell_type": "code",
      "metadata": {
        "execution": {
          "iopub.execute_input": "2021-07-03T17:54:20.722331Z",
          "iopub.status.busy": "2021-07-03T17:54:20.720941Z",
          "iopub.status.idle": "2021-07-03T17:54:20.724840Z",
          "shell.execute_reply": "2021-07-03T17:54:20.724270Z"
        },
        "pycharm": {
          "name": "#%%\n"
        },
        "colab": {
          "base_uri": "https://localhost:8080/"
        },
        "id": "5mPtjcJNuUhb",
        "outputId": "637a2985-91f1-4959-b7c0-13257271180f"
      },
      "source": [
        "i_neurons = [0, 321]\n",
        "i_print = slice(0, 5)\n",
        "\n",
        "for i in i_neurons:\n",
        "  print(\n",
        "    \"Neuron {}:\".format(i),\n",
        "    spike_times[i].dtype,\n",
        "    spike_times[i][i_print],\n",
        "    \"\\n\",\n",
        "    sep=\"\\n\"\n",
        "  )"
      ],
      "execution_count": 12,
      "outputs": [
        {
          "output_type": "stream",
          "text": [
            "Neuron 0:\n",
            "float32\n",
            "[ 0.8149   14.822467 24.9646   25.1436   38.8709  ]\n",
            "\n",
            "\n",
            "Neuron 321:\n",
            "float32\n",
            "[1.0698667 1.1536334 1.2403667 1.7072    1.799    ]\n",
            "\n",
            "\n"
          ],
          "name": "stdout"
        }
      ]
    },
    {
      "cell_type": "markdown",
      "metadata": {
        "id": "rWc6XCjXuUhc"
      },
      "source": [
        "Note that this time we've checked the NumPy `dtype` rather than the Python variable type. These two arrays contain floating point numbers (\"floats\") with 32 bits of precision.\n",
        "\n",
        "The basic picture is coming together:\n",
        "- `spike_times` is 1D, its entries are NumPy arrays, and its length is the number of neurons (734): by indexing it, we select a subset of neurons.\n",
        "- An array in `spike_times` is also 1D and corresponds to a single neuron; its entries are floating point numbers, and its length is the number of spikes attributed to that neuron. By indexing it, we select a subset of spike times for that neuron.\n",
        "\n",
        "Visually, you can think of the data structure as looking something like this:\n",
        "\n",
        "```\n",
        "| . . . . . |\n",
        "| . . . . . . . . |\n",
        "| . . . |\n",
        "| . . . . . . . |\n",
        "```\n",
        "\n",
        "Before moving on, we'll calculate and store the number of neurons in the dataset and the number of spikes per neuron:"
      ]
    },
    {
      "cell_type": "code",
      "metadata": {
        "execution": {
          "iopub.execute_input": "2021-07-03T17:54:20.731464Z",
          "iopub.status.busy": "2021-07-03T17:54:20.730149Z",
          "iopub.status.idle": "2021-07-03T17:54:20.733629Z",
          "shell.execute_reply": "2021-07-03T17:54:20.733072Z"
        },
        "pycharm": {
          "name": "#%%\n"
        },
        "colab": {
          "base_uri": "https://localhost:8080/"
        },
        "id": "MVgLpK7LuUhd",
        "outputId": "c5f4c012-15b9-4fb6-c602-886c607ab9cf"
      },
      "source": [
        "n_neurons = len(spike_times)\n",
        "total_spikes_per_neuron = [len(spike_times_i) for spike_times_i in spike_times]\n",
        "\n",
        "print(f\"Number of neurons: {n_neurons}\")\n",
        "print(f\"Number of spikes for first five neurons: {total_spikes_per_neuron[:5]}\")"
      ],
      "execution_count": 13,
      "outputs": [
        {
          "output_type": "stream",
          "text": [
            "Number of neurons: 734\n",
            "Number of spikes for first five neurons: [826, 2818, 3953, 646, 1115]\n"
          ],
          "name": "stdout"
        }
      ]
    },
    {
      "cell_type": "code",
      "metadata": {
        "cellView": "form",
        "execution": {
          "iopub.execute_input": "2021-07-03T17:54:20.748484Z",
          "iopub.status.busy": "2021-07-03T17:54:20.746673Z",
          "iopub.status.idle": "2021-07-03T17:54:20.806460Z",
          "shell.execute_reply": "2021-07-03T17:54:20.803939Z"
        },
        "colab": {
          "base_uri": "https://localhost:8080/",
          "height": 582,
          "referenced_widgets": [
            "ec9747084c61406e9f99c4fd037a3733",
            "8acdf8db59bc4fc69997884796391fb2",
            "65dbdfb69e35441ca0cca5728e73bf64",
            "3bae468bdccc439aa1fca1813b13294b",
            "eed4e72ac5014f97a86ea22f9d28fd77",
            "716ec33cf39d4774a9f07249d1b5cc45"
          ]
        },
        "id": "ZH6Qzt5HuUhf",
        "outputId": "46d62bf1-6c2a-47a3-9fed-8ce02de26d05"
      },
      "source": [
        "# @title Video 2: Exploring the dataset\n",
        "from ipywidgets import widgets\n",
        "\n",
        "out2 = widgets.Output()\n",
        "with out2:\n",
        "  from IPython.display import IFrame\n",
        "  class BiliVideo(IFrame):\n",
        "      def __init__(self, id, page=1, width=400, height=300, **kwargs):\n",
        "          self.id=id\n",
        "          src = 'https://player.bilibili.com/player.html?bvid={0}&page={1}'.format(id, page)\n",
        "          super(BiliVideo, self).__init__(src, width, height, **kwargs)\n",
        "\n",
        "  video = BiliVideo(id=\"BV1Hp4y1S7Au\", width=854, height=480, fs=1)\n",
        "  print('Video available at https://www.bilibili.com/video/{0}'.format(video.id))\n",
        "  display(video)\n",
        "\n",
        "out1 = widgets.Output()\n",
        "with out1:\n",
        "  from IPython.display import YouTubeVideo\n",
        "  video = YouTubeVideo(id=\"oHwYWUI_o1U\", width=854, height=480, fs=1, rel=0)\n",
        "  print('Video available at https://youtube.com/watch?v=' + video.id)\n",
        "  display(video)\n",
        "\n",
        "out = widgets.Tab([out1, out2])\n",
        "out.set_title(0, 'Youtube')\n",
        "out.set_title(1, 'Bilibili')\n",
        "\n",
        "display(out)"
      ],
      "execution_count": 14,
      "outputs": [
        {
          "output_type": "display_data",
          "data": {
            "application/vnd.jupyter.widget-view+json": {
              "model_id": "ec9747084c61406e9f99c4fd037a3733",
              "version_minor": 0,
              "version_major": 2
            },
            "text/plain": [
              "Tab(children=(Output(), Output()), _titles={'0': 'Youtube', '1': 'Bilibili'})"
            ]
          },
          "metadata": {
            "tags": []
          }
        }
      ]
    },
    {
      "cell_type": "markdown",
      "metadata": {
        "id": "x_qCr8IGuUhf"
      },
      "source": [
        "## Section 1.2: Getting warmer: counting and plotting total spike counts\n",
        "\n",
        "As we've seen, the number of spikes over the entire recording is variable between neurons. More generally, some neurons tend to spike more than others in a given period. Lets explore what the distribution of spiking looks like across all the neurons in the dataset."
      ]
    },
    {
      "cell_type": "markdown",
      "metadata": {
        "id": "oCyt_vuWuUhg"
      },
      "source": [
        "Are most neurons \"loud\" or \"quiet\", compared to the average? To see, we'll define bins of constant width in terms of total spikes and count the neurons that fall in each bin. This is known as a \"histogram\".\n",
        "\n",
        "You can plot a histogram with the matplotlib function `plt.hist`. If you just need to compute it, you can use the numpy function `np.histogram` instead."
      ]
    },
    {
      "cell_type": "code",
      "metadata": {
        "execution": {
          "iopub.execute_input": "2021-07-03T17:54:20.831106Z",
          "iopub.status.busy": "2021-07-03T17:54:20.830471Z",
          "iopub.status.idle": "2021-07-03T17:54:21.104468Z",
          "shell.execute_reply": "2021-07-03T17:54:21.103509Z"
        },
        "pycharm": {
          "name": "#%%\n"
        },
        "colab": {
          "base_uri": "https://localhost:8080/",
          "height": 431
        },
        "id": "xSKZ1DSSuUhg",
        "outputId": "045f5983-ceaa-4de9-a229-670eef782058"
      },
      "source": [
        "plt.hist(total_spikes_per_neuron, bins=50, histtype=\"stepfilled\")\n",
        "plt.xlabel(\"Total spikes per neuron\")\n",
        "plt.ylabel(\"Number of neurons\");"
      ],
      "execution_count": 18,
      "outputs": [
        {
          "output_type": "display_data",
          "data": {
            "image/png": "[encoded data removed]",
            "text/plain": [
              "<Figure size 576x432 with 1 Axes>"
            ]
          },
          "metadata": {
            "tags": [],
            "image/png": {
              "width": 558,
              "height": 414
            },
            "needs_background": "light"
          }
        }
      ]
    },
    {
      "cell_type": "markdown",
      "metadata": {
        "id": "m15nnX-zuUhh"
      },
      "source": [
        "Let's see what percentage of neurons have a below-average spike count:"
      ]
    },
    {
      "cell_type": "code",
      "metadata": {
        "execution": {
          "iopub.execute_input": "2021-07-03T17:54:21.109765Z",
          "iopub.status.busy": "2021-07-03T17:54:21.109111Z",
          "iopub.status.idle": "2021-07-03T17:54:21.113872Z",
          "shell.execute_reply": "2021-07-03T17:54:21.113384Z"
        },
        "pycharm": {
          "name": "#%%\n"
        },
        "colab": {
          "base_uri": "https://localhost:8080/"
        },
        "id": "-XDYbX-7uUhh",
        "outputId": "efaf5654-82dd-4ca9-97ed-9e6202ea9feb"
      },
      "source": [
        "mean_spike_count = np.mean(total_spikes_per_neuron)\n",
        "frac_below_mean = (total_spikes_per_neuron < mean_spike_count).mean()\n",
        "print(f\"{frac_below_mean:2.1%} of neurons are below the mean\")"
      ],
      "execution_count": 20,
      "outputs": [
        {
          "output_type": "stream",
          "text": [
            "68.0% of neurons are below the mean\n"
          ],
          "name": "stdout"
        }
      ]
    },
    {
      "cell_type": "markdown",
      "metadata": {
        "id": "CM73hmS6uUhk"
      },
      "source": [
        "We can also see this by adding the average spike count to the histogram plot:"
      ]
    },
    {
      "cell_type": "code",
      "metadata": {
        "execution": {
          "iopub.execute_input": "2021-07-03T17:54:21.143165Z",
          "iopub.status.busy": "2021-07-03T17:54:21.142193Z",
          "iopub.status.idle": "2021-07-03T17:54:21.408641Z",
          "shell.execute_reply": "2021-07-03T17:54:21.408096Z"
        },
        "pycharm": {
          "name": "#%%\n"
        },
        "colab": {
          "base_uri": "https://localhost:8080/",
          "height": 431
        },
        "id": "Kii1a6B4uUhl",
        "outputId": "9cb03280-fac2-49d9-e41d-a9c7ff468218"
      },
      "source": [
        "plt.hist(total_spikes_per_neuron, bins=50, histtype=\"stepfilled\")\n",
        "plt.xlabel(\"Total spikes per neuron\")\n",
        "plt.ylabel(\"Number of neurons\")\n",
        "plt.axvline(mean_spike_count, color=\"orange\", label=\"Mean neuron\")\n",
        "plt.legend();"
      ],
      "execution_count": 21,
      "outputs": [
        {
          "output_type": "display_data",
          "data": {
            "image/png": "[encoded data removed]",
            "text/plain": [
              "<Figure size 576x432 with 1 Axes>"
            ]
          },
          "metadata": {
            "tags": [],
            "image/png": {
              "width": 558,
              "height": 414
            },
            "needs_background": "light"
          }
        }
      ]
    },
    {
      "cell_type": "markdown",
      "metadata": {
        "id": "nMc7qQfjuUhm"
      },
      "source": [
        "This shows that the majority of neurons are relatively \"quiet\" compared to the mean, while a small number of neurons are exceptionally \"loud\": they must have spiked more often to reach a large count.\n",
        "\n",
        "### Coding Exercise 1.2: Comparing mean and median neurons\n",
        "\n",
        "If the mean neuron is more active than 68% of the population, what does that imply about the relationship between the mean neuron and the median neuron?\n",
        "\n",
        "*Exercise objective:* Reproduce the plot above, but add the median neuron.\n"
      ]
    },
    {
      "cell_type": "code",
      "metadata": {
        "execution": {
          "iopub.execute_input": "2021-07-03T17:54:21.417212Z",
          "iopub.status.busy": "2021-07-03T17:54:21.416528Z",
          "iopub.status.idle": "2021-07-03T17:54:21.534528Z",
          "shell.execute_reply": "2021-07-03T17:54:21.532642Z"
        },
        "pycharm": {
          "name": "#%%\n"
        },
        "colab": {
          "base_uri": "https://localhost:8080/",
          "height": 449
        },
        "id": "nKUDipg8uUhn",
        "outputId": "2a0f28a9-787f-4335-ae3f-2a1babb94fb6"
      },
      "source": [
        "#################################################################################\n",
        "## TODO for students:\n",
        "# Fill out function and remove\n",
        "# raise NotImplementedError(\"Student exercise: complete histogram plotting with median\")\n",
        "#################################################################################\n",
        "\n",
        "# Compute median spike count\n",
        "median_spike_count = np.median(total_spikes_per_neuron)\n",
        "\n",
        "# Visualize median, mean, and histogram\n",
        "plt.hist(total_spikes_per_neuron, bins=50, histtype=\"stepfilled\")\n",
        "plt.axvline(median_spike_count, color=\"limegreen\", label=\"Median neuron\")\n",
        "plt.axvline(mean_spike_count, color=\"orange\", label=\"Mean neuron\")\n",
        "plt.xlabel(\"Total spikes per neuron\")\n",
        "plt.ylabel(\"Number of neurons\")\n",
        "plt.legend()"
      ],
      "execution_count": 23,
      "outputs": [
        {
          "output_type": "execute_result",
          "data": {
            "text/plain": [
              "<matplotlib.legend.Legend at 0x7fd1dbc3f110>"
            ]
          },
          "metadata": {
            "tags": []
          },
          "execution_count": 23
        },
        {
          "output_type": "display_data",
          "data": {
            "image/png": "[encoded data removed]",
            "text/plain": [
              "<Figure size 576x432 with 1 Axes>"
            ]
          },
          "metadata": {
            "tags": [],
            "image/png": {
              "width": 558,
              "height": 414
            },
            "needs_background": "light"
          }
        }
      ]
    },
    {
      "cell_type": "markdown",
      "metadata": {
        "execution": {
          "iopub.execute_input": "2021-07-03T17:54:21.567423Z",
          "iopub.status.busy": "2021-07-03T17:54:21.566322Z",
          "iopub.status.idle": "2021-07-03T17:54:21.931828Z",
          "shell.execute_reply": "2021-07-03T17:54:21.932371Z"
        },
        "pycharm": {
          "name": "#%%\n"
        },
        "id": "ODuEioNBuUho"
      },
      "source": [
        "[*Click for solution*](https://github.com/NeuromatchAcademy/course-content/tree/master//tutorials/W1D1_ModelTypes/solutions/W1D1_Tutorial1_Solution_9af91fe0.py)\n",
        "\n",
        "*Example output:*\n",
        "\n",
        "<img alt='Solution hint' align='left' width=1116.0 height=827.0 src=https://raw.githubusercontent.com/NeuromatchAcademy/course-content/master/tutorials/W1D1_ModelTypes/static/W1D1_Tutorial1_Solution_9af91fe0_0.png>\n",
        "\n"
      ]
    },
    {
      "cell_type": "markdown",
      "metadata": {
        "id": "PtsU0mpquUhq"
      },
      "source": [
        "\n",
        "*Bonus:* The median is the 50th percentile. What about other percentiles? Can you show the interquartile range on the histogram?"
      ]
    },
    {
      "cell_type": "markdown",
      "metadata": {
        "id": "GyxYK7BpuUhq"
      },
      "source": [
        "---\n",
        "\n",
        "# Section 2: Visualizing neuronal spiking activity\n",
        "\n",
        "*Estimated timing to here from start of tutorial: 15 min*"
      ]
    },
    {
      "cell_type": "markdown",
      "metadata": {
        "id": "M8WymokTuUhr"
      },
      "source": [
        "## Section 2.1: Getting a subset of the data\n",
        "\n",
        "Now we'll visualize trains of spikes. Because the recordings are long, we will first define a short time interval and restrict the visualization to only the spikes in this interval. We defined a helper function, `restrict_spike_times`, to do this for you. If you call `help()` on the function, it will tell you a little bit about itself:"
      ]
    },
    {
      "cell_type": "code",
      "metadata": {
        "cellView": "form",
        "execution": {
          "iopub.execute_input": "2021-07-03T17:54:21.939391Z",
          "iopub.status.busy": "2021-07-03T17:54:21.938026Z",
          "iopub.status.idle": "2021-07-03T17:54:21.940041Z",
          "shell.execute_reply": "2021-07-03T17:54:21.940561Z"
        },
        "id": "wHT06233uUhs"
      },
      "source": [
        "# @markdown Execute this cell for helper function `restrict_spike_times`\n",
        "def restrict_spike_times(spike_times, interval):\n",
        "  \"\"\"Given a spike_time dataset, restrict to spikes within given interval.\n",
        "\n",
        "  Args:\n",
        "    spike_times (sequence of np.ndarray): List or array of arrays,\n",
        "      each inner array has spike times for a single neuron.\n",
        "    interval (tuple): Min, max time values; keep min <= t < max.\n",
        "\n",
        "  Returns:\n",
        "    np.ndarray: like `spike_times`, but only within `interval`\n",
        "  \"\"\"\n",
        "  interval_spike_times = []\n",
        "  for spikes in spike_times:\n",
        "    interval_mask = (spikes >= interval[0]) & (spikes < interval[1])\n",
        "    interval_spike_times.append(spikes[interval_mask])\n",
        "  return np.array(interval_spike_times, object)"
      ],
      "execution_count": 24,
      "outputs": []
    },
    {
      "cell_type": "code",
      "metadata": {
        "execution": {
          "iopub.execute_input": "2021-07-03T17:54:21.946273Z",
          "iopub.status.busy": "2021-07-03T17:54:21.944852Z",
          "iopub.status.idle": "2021-07-03T17:54:21.948195Z",
          "shell.execute_reply": "2021-07-03T17:54:21.947642Z"
        },
        "pycharm": {
          "name": "#%%\n"
        },
        "colab": {
          "base_uri": "https://localhost:8080/"
        },
        "id": "WIgRBh7juUht",
        "outputId": "b4dc491a-3ef4-45aa-d212-a3155e60b8d4"
      },
      "source": [
        "help(restrict_spike_times)"
      ],
      "execution_count": 25,
      "outputs": [
        {
          "output_type": "stream",
          "text": [
            "Help on function restrict_spike_times in module __main__:\n",
            "\n",
            "restrict_spike_times(spike_times, interval)\n",
            "    Given a spike_time dataset, restrict to spikes within given interval.\n",
            "    \n",
            "    Args:\n",
            "      spike_times (sequence of np.ndarray): List or array of arrays,\n",
            "        each inner array has spike times for a single neuron.\n",
            "      interval (tuple): Min, max time values; keep min <= t < max.\n",
            "    \n",
            "    Returns:\n",
            "      np.ndarray: like `spike_times`, but only within `interval`\n",
            "\n"
          ],
          "name": "stdout"
        }
      ]
    },
    {
      "cell_type": "code",
      "metadata": {
        "execution": {
          "iopub.execute_input": "2021-07-03T17:54:21.952491Z",
          "iopub.status.busy": "2021-07-03T17:54:21.951885Z",
          "iopub.status.idle": "2021-07-03T17:54:21.967180Z",
          "shell.execute_reply": "2021-07-03T17:54:21.966623Z"
        },
        "pycharm": {
          "name": "#%%\n"
        },
        "id": "h-w8ZKuVuUhu"
      },
      "source": [
        "t_interval = (5, 15)  # units are seconds after start of recording\n",
        "interval_spike_times = restrict_spike_times(spike_times, t_interval)"
      ],
      "execution_count": 26,
      "outputs": []
    },
    {
      "cell_type": "markdown",
      "metadata": {
        "id": "quyrJs_wuUhu"
      },
      "source": [
        "Is this a representative interval? What fraction of the total spikes fall in this interval?"
      ]
    },
    {
      "cell_type": "code",
      "metadata": {
        "execution": {
          "iopub.execute_input": "2021-07-03T17:54:21.973917Z",
          "iopub.status.busy": "2021-07-03T17:54:21.972504Z",
          "iopub.status.idle": "2021-07-03T17:54:21.976061Z",
          "shell.execute_reply": "2021-07-03T17:54:21.975519Z"
        },
        "pycharm": {
          "name": "#%%\n"
        },
        "colab": {
          "base_uri": "https://localhost:8080/"
        },
        "id": "3aP16Kx0uUhv",
        "outputId": "285b9c12-fd7c-4e98-aeb1-67d573d9da17"
      },
      "source": [
        "original_counts = sum([len(spikes) for spikes in spike_times])\n",
        "interval_counts = sum([len(spikes) for spikes in interval_spike_times])\n",
        "frac_interval_spikes = interval_counts / original_counts\n",
        "print(f\"{frac_interval_spikes:.2%} of the total spikes are in the interval\")"
      ],
      "execution_count": 27,
      "outputs": [
        {
          "output_type": "stream",
          "text": [
            "0.33% of the total spikes are in the interval\n"
          ],
          "name": "stdout"
        }
      ]
    },
    {
      "cell_type": "markdown",
      "metadata": {
        "id": "ZaTOIhgyuUhv"
      },
      "source": [
        "How does this compare to the ratio between the interval duration and the experiment duration? (What fraction of the total time is in this interval?)\n",
        "\n",
        "We can approximate the experiment duration by taking the minimum and maximum spike time in the whole dataset. To do that, we \"concatenate\" all of the neurons into one array and then use `np.ptp` (\"peak-to-peak\") to get the difference between the maximum and minimum value:"
      ]
    },
    {
      "cell_type": "code",
      "metadata": {
        "execution": {
          "iopub.execute_input": "2021-07-03T17:54:21.980602Z",
          "iopub.status.busy": "2021-07-03T17:54:21.980011Z",
          "iopub.status.idle": "2021-07-03T17:54:21.999935Z",
          "shell.execute_reply": "2021-07-03T17:54:22.000568Z"
        },
        "pycharm": {
          "name": "#%%\n"
        },
        "colab": {
          "base_uri": "https://localhost:8080/"
        },
        "id": "VvftYBpjuUhv",
        "outputId": "6513374b-9bb7-4278-ecb2-de232c4ae1b7"
      },
      "source": [
        "spike_times_flat = np.concatenate(spike_times)\n",
        "experiment_duration = np.ptp(spike_times_flat)\n",
        "interval_duration = t_interval[1] - t_interval[0]\n",
        "\n",
        "frac_interval_time = interval_duration / experiment_duration\n",
        "print(f\"{frac_interval_time:.2%} of the total time is in the interval\")"
      ],
      "execution_count": 28,
      "outputs": [
        {
          "output_type": "stream",
          "text": [
            "0.37% of the total time is in the interval\n"
          ],
          "name": "stdout"
        }
      ]
    },
    {
      "cell_type": "markdown",
      "metadata": {
        "id": "_P47F34guUhw"
      },
      "source": [
        "These two values—the fraction of total spikes and the fraction of total time—are similar. This suggests the average spike rate of the neuronal population is not very different in this interval compared to the entire recording.\n",
        "\n",
        "## Section 2.2: Plotting spike trains and rasters\n",
        "\n",
        "Now that we have a representative subset, we're ready to plot the spikes, using the matplotlib `plt.eventplot` function. Let's look at a single neuron first:"
      ]
    },
    {
      "cell_type": "code",
      "metadata": {
        "execution": {
          "iopub.execute_input": "2021-07-03T17:54:22.019853Z",
          "iopub.status.busy": "2021-07-03T17:54:22.019192Z",
          "iopub.status.idle": "2021-07-03T17:54:22.196514Z",
          "shell.execute_reply": "2021-07-03T17:54:22.195642Z"
        },
        "pycharm": {
          "name": "#%%\n"
        },
        "colab": {
          "base_uri": "https://localhost:8080/",
          "height": 431
        },
        "id": "6AOyWoEHuUhx",
        "outputId": "4adb3f1b-0e91-4cda-a69b-80f2de5b2432"
      },
      "source": [
        "neuron_idx = 1\n",
        "plt.eventplot(interval_spike_times[neuron_idx], color=\".2\")\n",
        "plt.xlabel(\"Time (s)\")\n",
        "plt.yticks([]);"
      ],
      "execution_count": 32,
      "outputs": [
        {
          "output_type": "display_data",
          "data": {
            "image/png": "[encoded data removed]",
            "text/plain": [
              "<Figure size 576x432 with 1 Axes>"
            ]
          },
          "metadata": {
            "tags": [],
            "image/png": {
              "width": 557,
              "height": 414
            },
            "needs_background": "light"
          }
        }
      ]
    },
    {
      "cell_type": "markdown",
      "metadata": {
        "id": "VtKdH3pvuUhy"
      },
      "source": [
        "We can also plot multiple neurons. Here are three:"
      ]
    },
    {
      "cell_type": "code",
      "metadata": {
        "execution": {
          "iopub.execute_input": "2021-07-03T17:54:22.270761Z",
          "iopub.status.busy": "2021-07-03T17:54:22.270162Z",
          "iopub.status.idle": "2021-07-03T17:54:22.424884Z",
          "shell.execute_reply": "2021-07-03T17:54:22.423869Z"
        },
        "pycharm": {
          "name": "#%%\n"
        },
        "colab": {
          "base_uri": "https://localhost:8080/",
          "height": 430
        },
        "id": "Yo98ri-ruUh1",
        "outputId": "b4350fa7-6ca9-4012-8b1c-60dd54252f69"
      },
      "source": [
        "neuron_idx = [1, 11, 51]\n",
        "plt.eventplot(interval_spike_times[neuron_idx], color=\".2\")\n",
        "plt.xlabel(\"Time (s)\")\n",
        "plt.yticks([]);"
      ],
      "execution_count": 33,
      "outputs": [
        {
          "output_type": "display_data",
          "data": {
            "image/png": "[encoded data removed]",
            "text/plain": [
              "<Figure size 576x432 with 1 Axes>"
            ]
          },
          "metadata": {
            "tags": [],
            "image/png": {
              "width": 557,
              "height": 413
            },
            "needs_background": "light"
          }
        }
      ]
    },
    {
      "cell_type": "markdown",
      "metadata": {
        "id": "t7dmqOE3uUh2"
      },
      "source": [
        "This makes a \"raster\" plot, where the spikes from each neuron appear in a different row.\n",
        "\n",
        "Plotting a large number of neurons can give you a sense for the characteristics in the population. Let's show every 5th neuron that was recorded:"
      ]
    },
    {
      "cell_type": "code",
      "metadata": {
        "execution": {
          "iopub.execute_input": "2021-07-03T17:54:22.439900Z",
          "iopub.status.busy": "2021-07-03T17:54:22.438828Z",
          "iopub.status.idle": "2021-07-03T17:54:22.879608Z",
          "shell.execute_reply": "2021-07-03T17:54:22.878363Z"
        },
        "pycharm": {
          "name": "#%%\n"
        },
        "colab": {
          "base_uri": "https://localhost:8080/",
          "height": 430
        },
        "id": "Oo0xNuJguUh2",
        "outputId": "92999c30-7ebb-461e-ff88-15c1827691de"
      },
      "source": [
        "neuron_idx = np.arange(0, len(spike_times), 5)\n",
        "plt.eventplot(interval_spike_times[neuron_idx], color=\".2\")\n",
        "plt.xlabel(\"Time (s)\")\n",
        "plt.yticks([]);"
      ],
      "execution_count": 34,
      "outputs": [
        {
          "output_type": "display_data",
          "data": {
            "image/png": "[encoded data removed]",
            "text/plain": [
              "<Figure size 576x432 with 1 Axes>"
            ]
          },
          "metadata": {
            "tags": [],
            "image/png": {
              "width": 558,
              "height": 413
            },
            "needs_background": "light"
          }
        }
      ]
    },
    {
      "cell_type": "markdown",
      "metadata": {
        "id": "4dxfVT7nuUh3"
      },
      "source": [
        "*Question*: How does the information in this plot relate to the histogram of total spike counts that you saw above?"
      ]
    },
    {
      "cell_type": "markdown",
      "metadata": {
        "execution": {
          "iopub.execute_input": "2021-07-03T17:54:22.884637Z",
          "iopub.status.busy": "2021-07-03T17:54:22.883994Z",
          "iopub.status.idle": "2021-07-03T17:54:22.889216Z",
          "shell.execute_reply": "2021-07-03T17:54:22.890231Z"
        },
        "id": "W14sSkcCuUh4"
      },
      "source": [
        "[*Click for solution*](https://github.com/NeuromatchAcademy/course-content/tree/master//tutorials/W1D1_ModelTypes/solutions/W1D1_Tutorial1_Solution_b01195c9.py)\n",
        "\n"
      ]
    },
    {
      "cell_type": "code",
      "metadata": {
        "cellView": "form",
        "execution": {
          "iopub.execute_input": "2021-07-03T17:54:22.903300Z",
          "iopub.status.busy": "2021-07-03T17:54:22.902309Z",
          "iopub.status.idle": "2021-07-03T17:54:22.968449Z",
          "shell.execute_reply": "2021-07-03T17:54:22.967927Z"
        },
        "colab": {
          "base_uri": "https://localhost:8080/",
          "height": 582,
          "referenced_widgets": [
            "570601566fd9409288265ffe8cf9b271",
            "fc2206dc812c4cf58917ac7842c8db93",
            "1f04da13ce7e45488bf9577f4b14af08",
            "12fbfa2a68ee4f9d906195a3ee131183",
            "7d9c72cd4d874fcf8f221b9c76b61830",
            "a3c03cde7a0b4fd4bd7e9e4212cf9e01"
          ]
        },
        "id": "Y6yK1PgeuUh4",
        "outputId": "93f6616b-037b-4aea-e37f-4dea416b3526"
      },
      "source": [
        "# @title Video 3: Visualizing activity\n",
        "from ipywidgets import widgets\n",
        "\n",
        "out2 = widgets.Output()\n",
        "with out2:\n",
        "  from IPython.display import IFrame\n",
        "  class BiliVideo(IFrame):\n",
        "      def __init__(self, id, page=1, width=400, height=300, **kwargs):\n",
        "          self.id=id\n",
        "          src = 'https://player.bilibili.com/player.html?bvid={0}&page={1}'.format(id, page)\n",
        "          super(BiliVideo, self).__init__(src, width, height, **kwargs)\n",
        "\n",
        "  video = BiliVideo(id=\"BV1dt4y1Q7C5\", width=854, height=480, fs=1)\n",
        "  print('Video available at https://www.bilibili.com/video/{0}'.format(video.id))\n",
        "  display(video)\n",
        "\n",
        "out1 = widgets.Output()\n",
        "with out1:\n",
        "  from IPython.display import YouTubeVideo\n",
        "  video = YouTubeVideo(id=\"QGA5FCW7kkA\", width=854, height=480, fs=1, rel=0)\n",
        "  print('Video available at https://youtube.com/watch?v=' + video.id)\n",
        "  display(video)\n",
        "\n",
        "out = widgets.Tab([out1, out2])\n",
        "out.set_title(0, 'Youtube')\n",
        "out.set_title(1, 'Bilibili')\n",
        "\n",
        "display(out)"
      ],
      "execution_count": 35,
      "outputs": [
        {
          "output_type": "display_data",
          "data": {
            "application/vnd.jupyter.widget-view+json": {
              "model_id": "570601566fd9409288265ffe8cf9b271",
              "version_minor": 0,
              "version_major": 2
            },
            "text/plain": [
              "Tab(children=(Output(), Output()), _titles={'0': 'Youtube', '1': 'Bilibili'})"
            ]
          },
          "metadata": {
            "tags": []
          }
        }
      ]
    },
    {
      "cell_type": "markdown",
      "metadata": {
        "id": "c10uHi80uUh5"
      },
      "source": [
        "---\n",
        "\n",
        "# Section 3: Inter-spike intervals and their distributions\n",
        "\n",
        "*Estimated timing to here from start of tutorial: 25 min*"
      ]
    },
    {
      "cell_type": "markdown",
      "metadata": {
        "id": "tOM5noYMuUh5"
      },
      "source": [
        "Given the ordered arrays of spike times for each neuron in `spike_times`, which we've just visualized, what can we ask next?\n",
        "\n",
        "Scientific questions are informed by existing models. So, what knowledge do we already have that can inform questions about this data?\n",
        "\n",
        "We know that there are physical constraints on neuron spiking. Spiking costs energy, which the neuron's cellular machinery can only obtain at a finite rate. Therefore neurons should have a refractory period: they can only fire as quickly as their metabolic processes can support, and there is a minimum delay between consecutive spikes of the same neuron.\n",
        "\n",
        "More generally, we can ask \"how long does a neuron wait to spike again?\" or \"what is the longest a neuron will wait?\" Can we transform spike times into something else, to address questions like these more directly?\n",
        "\n",
        "We can consider the inter-spike times (or interspike intervals: ISIs). These are simply the time differences between consecutive spikes of the same neuron.\n",
        "\n",
        "### Exercise 3: Plot the distribution of ISIs for a single neuron\n",
        "\n",
        "*Exercise objective:* make a histogram, like we did for spike counts, to show the distribution of ISIs for one of the neurons in the dataset.\n",
        "\n",
        "Do this in three steps:\n",
        "\n",
        "1. Extract the spike times for one of the neurons\n",
        "2. Compute the ISIs (the amount of time between spikes, or equivalently, the difference between adjacent spike times)\n",
        "3. Plot a histogram with the array of individual ISIs"
      ]
    },
    {
      "cell_type": "code",
      "metadata": {
        "execution": {
          "iopub.execute_input": "2021-07-03T17:54:22.982203Z",
          "iopub.status.busy": "2021-07-03T17:54:22.981593Z",
          "iopub.status.idle": "2021-07-03T17:54:22.989786Z",
          "shell.execute_reply": "2021-07-03T17:54:22.989137Z"
        },
        "pycharm": {
          "name": "#%%\n"
        },
        "colab": {
          "base_uri": "https://localhost:8080/",
          "height": 430
        },
        "id": "ggudQTBYuUh5",
        "outputId": "4d2e10bc-a6f7-4f38-cd85-4e1f8f7c4440"
      },
      "source": [
        "def compute_single_neuron_isis(spike_times, neuron_idx):\n",
        "  \"\"\"Compute a vector of ISIs for a single neuron given spike times.\n",
        "\n",
        "  Args:\n",
        "    spike_times (list of 1D arrays): Spike time dataset, with the first\n",
        "      dimension corresponding to different neurons.\n",
        "    neuron_idx (int): Index of the unit to compute ISIs for.\n",
        "\n",
        "  Returns:\n",
        "    isis (1D array): Duration of time between each spike from one neuron.\n",
        "  \"\"\"\n",
        "  #############################################################################\n",
        "  # Students: Fill in missing code (...) and comment or remove the next line\n",
        "  # raise NotImplementedError(\"Exercise: compute single neuron ISIs\")\n",
        "  #############################################################################\n",
        "\n",
        "  # Extract the spike times for the specified neuron\n",
        "  single_neuron_spikes = spike_times[neuron_idx]\n",
        "\n",
        "  # Compute the ISIs for this set of spikes\n",
        "  # Hint: the function np.diff computes discrete differences along an array\n",
        "  isis = np.diff(single_neuron_spikes)\n",
        "\n",
        "  return isis\n",
        "\n",
        "# Compute ISIs\n",
        "single_neuron_isis = compute_single_neuron_isis(spike_times, neuron_idx=283)\n",
        "\n",
        "# Visualize ISIs\n",
        "plot_isis(single_neuron_isis)"
      ],
      "execution_count": 39,
      "outputs": [
        {
          "output_type": "display_data",
          "data": {
            "image/png": "[encoded data removed]",
            "text/plain": [
              "<Figure size 576x432 with 1 Axes>"
            ]
          },
          "metadata": {
            "tags": [],
            "image/png": {
              "width": 558,
              "height": 413
            },
            "needs_background": "light"
          }
        }
      ]
    },
    {
      "cell_type": "markdown",
      "metadata": {
        "execution": {
          "iopub.execute_input": "2021-07-03T17:54:22.998186Z",
          "iopub.status.busy": "2021-07-03T17:54:22.997577Z",
          "iopub.status.idle": "2021-07-03T17:54:23.356486Z",
          "shell.execute_reply": "2021-07-03T17:54:23.355980Z"
        },
        "pycharm": {
          "name": "#%%\n"
        },
        "id": "tcBOJJ9GuUh7"
      },
      "source": [
        "[*Click for solution*](https://github.com/NeuromatchAcademy/course-content/tree/master//tutorials/W1D1_ModelTypes/solutions/W1D1_Tutorial1_Solution_2972c168.py)\n",
        "\n",
        "*Example output:*\n",
        "\n",
        "<img alt='Solution hint' align='left' width=1116.0 height=828.0 src=https://raw.githubusercontent.com/NeuromatchAcademy/course-content/master/tutorials/W1D1_ModelTypes/static/W1D1_Tutorial1_Solution_2972c168_0.png>\n",
        "\n"
      ]
    },
    {
      "cell_type": "markdown",
      "metadata": {
        "id": "-t5vczqLuUh8"
      },
      "source": [
        "---\n",
        "\n",
        "In general, the shorter ISIs are predominant, with counts decreasing rapidly (and smoothly, more or less) with increasing ISI. However, counts also rapidly decrease to zero with _decreasing_ ISI below the maximum of the distribution (8-11 ms). The absence of these very low ISIs agrees with the refractory period hypothesis: the neuron cannot fire quickly enough to populate this region of the ISI distribution.\n",
        "\n",
        "Check the distributions of some other neurons. To resolve various features of the distributions, you might need to play with the value of `n_bins`. Using too few bins might smooth over interesting details, but if you use too many bins, the random variability will start to dominate.\n",
        "\n",
        "You might also want to restrict the range to see the shape of the distribution when focusing on relatively short or long ISIs. *Hint:* `plt.hist` takes a `range` argument"
      ]
    },
    {
      "cell_type": "markdown",
      "metadata": {
        "id": "SYjANbYJuUh9"
      },
      "source": [
        "---\n",
        "\n",
        "# Section 4: What is the functional form of an ISI distribution?\n",
        "\n",
        "*Estimated timing to here from start of tutorial: 35 min*"
      ]
    },
    {
      "cell_type": "code",
      "metadata": {
        "cellView": "form",
        "execution": {
          "iopub.execute_input": "2021-07-03T17:54:23.369679Z",
          "iopub.status.busy": "2021-07-03T17:54:23.369060Z",
          "iopub.status.idle": "2021-07-03T17:54:23.429414Z",
          "shell.execute_reply": "2021-07-03T17:54:23.428823Z"
        },
        "colab": {
          "base_uri": "https://localhost:8080/",
          "height": 582,
          "referenced_widgets": [
            "8b511decd3944c3aa1f34afce783c837",
            "cb0e45e0f6504f47b25c8945f6f75d51",
            "217207672ed84111a1d92fa5a2a58890",
            "78fd918484b34c1187aa29a5e708a2aa",
            "170a87a449ef40dfbdcc5e1d301b85bc",
            "ec951a6d10d042c99d20d9c6f8a53c43"
          ]
        },
        "id": "TVy56c5JuUh-",
        "outputId": "fd0c8c5d-a0a1-4734-f3f7-f8daf2d5a56f"
      },
      "source": [
        "# @title Video 4: ISI distribution\n",
        "from ipywidgets import widgets\n",
        "\n",
        "out2 = widgets.Output()\n",
        "with out2:\n",
        "  from IPython.display import IFrame\n",
        "  class BiliVideo(IFrame):\n",
        "      def __init__(self, id, page=1, width=400, height=300, **kwargs):\n",
        "          self.id=id\n",
        "          src = 'https://player.bilibili.com/player.html?bvid={0}&page={1}'.format(id, page)\n",
        "          super(BiliVideo, self).__init__(src, width, height, **kwargs)\n",
        "\n",
        "  video = BiliVideo(id=\"BV1ov411B7Pm\", width=854, height=480, fs=1)\n",
        "  print('Video available at https://www.bilibili.com/video/{0}'.format(video.id))\n",
        "  display(video)\n",
        "\n",
        "out1 = widgets.Output()\n",
        "with out1:\n",
        "  from IPython.display import YouTubeVideo\n",
        "  video = YouTubeVideo(id=\"DHhM80MOTe8\", width=854, height=480, fs=1, rel=0)\n",
        "  print('Video available at https://youtube.com/watch?v=' + video.id)\n",
        "  display(video)\n",
        "\n",
        "out = widgets.Tab([out1, out2])\n",
        "out.set_title(0, 'Youtube')\n",
        "out.set_title(1, 'Bilibili')\n",
        "\n",
        "display(out)"
      ],
      "execution_count": 38,
      "outputs": [
        {
          "output_type": "display_data",
          "data": {
            "application/vnd.jupyter.widget-view+json": {
              "model_id": "8b511decd3944c3aa1f34afce783c837",
              "version_minor": 0,
              "version_major": 2
            },
            "text/plain": [
              "Tab(children=(Output(), Output()), _titles={'0': 'Youtube', '1': 'Bilibili'})"
            ]
          },
          "metadata": {
            "tags": []
          }
        }
      ]
    },
    {
      "cell_type": "markdown",
      "metadata": {
        "id": "k36Nb7Q3uUh_"
      },
      "source": [
        "The ISI histograms seem to follow continuous, monotonically decreasing functions above their maxima. The function is clearly non-linear. Could it belong to a single family of functions?\n",
        "\n",
        "To motivate the idea of using a mathematical function to explain physiological phenomena, let's define a few different function forms that we might expect the relationship to follow: exponential, inverse, and linear."
      ]
    },
    {
      "cell_type": "code",
      "metadata": {
        "execution": {
          "iopub.execute_input": "2021-07-03T17:54:23.445271Z",
          "iopub.status.busy": "2021-07-03T17:54:23.443840Z",
          "iopub.status.idle": "2021-07-03T17:54:23.446205Z",
          "shell.execute_reply": "2021-07-03T17:54:23.446819Z"
        },
        "pycharm": {
          "name": "#%%\n"
        },
        "id": "jqKvbb2guUiB"
      },
      "source": [
        "def exponential(xs, scale, rate, x0):\n",
        "  \"\"\"A simple parametrized exponential function, applied element-wise.\n",
        "\n",
        "  Args:\n",
        "    xs (np.ndarray or float): Input(s) to the function.\n",
        "    scale (float): Linear scaling factor.\n",
        "    rate (float): Exponential growth (positive) or decay (negative) rate.\n",
        "    x0 (float): Horizontal offset.\n",
        "\n",
        "  \"\"\"\n",
        "  ys = scale * np.exp(rate * (xs - x0))\n",
        "  return ys\n",
        "\n",
        "def inverse(xs, scale, x0):\n",
        "  \"\"\"A simple parametrized inverse function (`1/x`), applied element-wise.\n",
        "\n",
        "  Args:\n",
        "    xs (np.ndarray or float): Input(s) to the function.\n",
        "    scale (float): Linear scaling factor.\n",
        "    x0 (float): Horizontal offset.\n",
        "\n",
        "  \"\"\"\n",
        "  ys = scale / (xs - x0)\n",
        "  return ys\n",
        "\n",
        "def linear(xs, slope, y0):\n",
        "  \"\"\"A simple linear function, applied element-wise.\n",
        "\n",
        "  Args:\n",
        "    xs (np.ndarray or float): Input(s) to the function.\n",
        "    slope (float): Slope of the line.\n",
        "    y0 (float): y-intercept of the line.\n",
        "\n",
        "  \"\"\"\n",
        "  ys = slope * xs + y0\n",
        "  return ys"
      ],
      "execution_count": 40,
      "outputs": []
    },
    {
      "cell_type": "markdown",
      "metadata": {
        "id": "WDUY_SjzuUiC"
      },
      "source": [
        "### Interactive Demo 4: ISI functions explorer\n",
        "\n",
        "Here is an interactive demo where you can vary the parameters of these functions and see how well the resulting outputs correspond to the data. Adjust the parameters by moving the sliders and see how close you can get the lines to follow the falling curve of the histogram. This will give you a taste of what you're trying to do when you *fit a model* to data.\n",
        "\n",
        "\"Interactive demo\" cells have hidden code that defines an interface where you can play with the parameters of some function using sliders. You don't need to worry about how the code works – but you do need to **run the cell** to enable the sliders.\n",
        "\n",
        "- Which type of function (exponential/inverse/linear) can you make match the data best?\n"
      ]
    },
    {
      "cell_type": "code",
      "metadata": {
        "cellView": "form",
        "execution": {
          "iopub.execute_input": "2021-07-03T17:54:23.458648Z",
          "iopub.status.busy": "2021-07-03T17:54:23.454106Z",
          "iopub.status.idle": "2021-07-03T17:54:23.875898Z",
          "shell.execute_reply": "2021-07-03T17:54:23.876365Z"
        },
        "pycharm": {
          "name": "#%%\n"
        },
        "colab": {
          "base_uri": "https://localhost:8080/",
          "height": 654,
          "referenced_widgets": [
            "7ef9ef9377d14132a7a8b842c749bffc",
            "6071c95a3f094431b9b654a7e3404a80",
            "bd16352ea07d44629f003c409b804473",
            "d577e0c39a6741d8af0842d8a0cd41d7",
            "ca511884bfe3416c8be4c28e30325373",
            "9005e25760eb4a47945d45b7f47a3e94",
            "f4123551c53f4d488f6cf9e1791a2ac6",
            "45b5045ce8f14fcfb2ffe818ebd57f44",
            "edf4d0241bda4fcb859e89024427b01a",
            "175ed1e3e59f4d96b314df273b9f6e0e",
            "0dd7594f985445fbb7427f15aadfb67b",
            "48b55881cce241309cb99c146701f211",
            "48464085c07d46988007df02e801b007",
            "333d38c0bc1d4315a654fd9b6d2013d8",
            "7d99d63401ea4ff09f272937f177832e",
            "f0c9441c0c5c4c8caeeb218fe5c39443",
            "06b5ad28a3824bf3a99df09522d3b793",
            "8628d6dff5ed465c8ba41433bc29c5ab",
            "b06d9ced906c43409805c11ab35f8646",
            "2761e6dfd23842448dbde1538d3a0ff0",
            "082c71f8d07e493da08f14be3f95caf8",
            "cd89ba0971b143a9b52d550d30024c9e",
            "b0ccfdf001114c668abec05c4704be0c",
            "2fafcb1036874883ba9d53877ac82dea",
            "b8acdf21728e423193df4760901f1de1"
          ]
        },
        "id": "bSQ7tZriuUiD",
        "outputId": "5c87a5c0-6879-4149-9332-44eb0fa778a5"
      },
      "source": [
        "#@title\n",
        "\n",
        "#@markdown Be sure to run this cell to enable the demo\n",
        "# Don't worry about understanding this code! It's to setup an interactive plot.\n",
        "single_neuron_idx = 283\n",
        "single_neuron_spikes = spike_times[single_neuron_idx]\n",
        "single_neuron_isis = np.diff(single_neuron_spikes)\n",
        "\n",
        "counts, edges = np.histogram(\n",
        "  single_neuron_isis,\n",
        "  bins=50,\n",
        "  range=(0, single_neuron_isis.max())\n",
        ")\n",
        "\n",
        "functions = dict(\n",
        "  exponential=exponential,\n",
        "  inverse=inverse,\n",
        "  linear=linear,\n",
        ")\n",
        "\n",
        "colors = dict(\n",
        "  exponential=\"C1\",\n",
        "  inverse=\"C2\",\n",
        "  linear=\"C4\",\n",
        ")\n",
        "\n",
        "@widgets.interact(\n",
        "  exp_scale=widgets.FloatSlider(1000, min=0, max=20000, step=250),\n",
        "  exp_rate=widgets.FloatSlider(-10, min=-200, max=50, step=1),\n",
        "  exp_x0=widgets.FloatSlider(0.1, min=-0.5, max=0.5, step=0.005),\n",
        "  inv_scale=widgets.FloatSlider(1000, min=0, max=3e2, step=10),\n",
        "  inv_x0=widgets.FloatSlider(0, min=-0.2, max=0.2, step=0.01),\n",
        "  lin_slope=widgets.FloatSlider(-1e5, min=-6e5, max=1e5, step=10000),\n",
        "  lin_y0=widgets.FloatSlider(10000, min=0, max=4e4, step=1000),\n",
        ")\n",
        "def fit_plot(\n",
        "  exp_scale=1000, exp_rate=-10, exp_x0=0.1,\n",
        "  inv_scale=1000, inv_x0=0,\n",
        "  lin_slope=-1e5, lin_y0=2000,\n",
        "):\n",
        "  \"\"\"Helper function for plotting function fits with interactive sliders.\"\"\"\n",
        "  func_params = dict(\n",
        "    exponential=(exp_scale, exp_rate, exp_x0),\n",
        "    inverse=(inv_scale, inv_x0),\n",
        "    linear=(lin_slope, lin_y0),\n",
        "  )\n",
        "  f, ax = plt.subplots()\n",
        "  ax.fill_between(edges[:-1], counts, step=\"post\", alpha=.5)\n",
        "  xs = np.linspace(1e-10, edges.max())\n",
        "  for name, function in functions.items():\n",
        "    ys = function(xs, *func_params[name])\n",
        "    ax.plot(xs, ys, lw=3, color=colors[name], label=name);\n",
        "  ax.set(\n",
        "      xlim=(edges.min(), edges.max()),\n",
        "      ylim=(0, counts.max() * 1.1),\n",
        "      xlabel=\"ISI (s)\",\n",
        "      ylabel=\"Number of spikes\",\n",
        "  )\n",
        "  ax.legend()"
      ],
      "execution_count": 41,
      "outputs": [
        {
          "output_type": "display_data",
          "data": {
            "application/vnd.jupyter.widget-view+json": {
              "model_id": "7ef9ef9377d14132a7a8b842c749bffc",
              "version_minor": 0,
              "version_major": 2
            },
            "text/plain": [
              "interactive(children=(FloatSlider(value=1000.0, description='exp_scale', max=20000.0, step=250.0), FloatSlider…"
            ]
          },
          "metadata": {
            "tags": []
          }
        }
      ]
    },
    {
      "cell_type": "markdown",
      "metadata": {
        "execution": {
          "iopub.execute_input": "2021-07-03T17:54:23.881204Z",
          "iopub.status.busy": "2021-07-03T17:54:23.880570Z",
          "iopub.status.idle": "2021-07-03T17:54:23.884239Z",
          "shell.execute_reply": "2021-07-03T17:54:23.884689Z"
        },
        "id": "ZyX28UxTuUiF"
      },
      "source": [
        "[*Click for solution*](https://github.com/NeuromatchAcademy/course-content/tree/master//tutorials/W1D1_ModelTypes/solutions/W1D1_Tutorial1_Solution_b6cd7761.py)\n",
        "\n"
      ]
    },
    {
      "cell_type": "code",
      "metadata": {
        "cellView": "form",
        "execution": {
          "iopub.execute_input": "2021-07-03T17:54:23.896459Z",
          "iopub.status.busy": "2021-07-03T17:54:23.892167Z",
          "iopub.status.idle": "2021-07-03T17:54:23.957580Z",
          "shell.execute_reply": "2021-07-03T17:54:23.958179Z"
        },
        "colab": {
          "base_uri": "https://localhost:8080/",
          "height": 582,
          "referenced_widgets": [
            "c8558c76211f498c8e20979c9672074d",
            "aa9753010109444cb8a1be6762495a17",
            "ccf1302f75d74d65955a7d23e4750e0c",
            "cc21cee6caed43f49227db0771501f1f",
            "bd8b213d02c844a8bdb58e1ee49b509b",
            "e09451942d674857ab018e3ee87b0ce6"
          ]
        },
        "id": "6-A9oDiUuUiG",
        "outputId": "1fc2e4a1-7a6b-48ec-828c-a0eaf3df2b85"
      },
      "source": [
        "# @title Video 5: Fitting models by hand\n",
        "from ipywidgets import widgets\n",
        "\n",
        "out2 = widgets.Output()\n",
        "with out2:\n",
        "  from IPython.display import IFrame\n",
        "  class BiliVideo(IFrame):\n",
        "      def __init__(self, id, page=1, width=400, height=300, **kwargs):\n",
        "          self.id=id\n",
        "          src = 'https://player.bilibili.com/player.html?bvid={0}&page={1}'.format(id, page)\n",
        "          super(BiliVideo, self).__init__(src, width, height, **kwargs)\n",
        "\n",
        "  video = BiliVideo(id=\"BV1w54y1S7Eb\", width=854, height=480, fs=1)\n",
        "  print('Video available at https://www.bilibili.com/video/{0}'.format(video.id))\n",
        "  display(video)\n",
        "\n",
        "out1 = widgets.Output()\n",
        "with out1:\n",
        "  from IPython.display import YouTubeVideo\n",
        "  video = YouTubeVideo(id=\"uW2HDk_4-wk\", width=854, height=480, fs=1, rel=0)\n",
        "  print('Video available at https://youtube.com/watch?v=' + video.id)\n",
        "  display(video)\n",
        "\n",
        "out = widgets.Tab([out1, out2])\n",
        "out.set_title(0, 'Youtube')\n",
        "out.set_title(1, 'Bilibili')\n",
        "\n",
        "display(out)"
      ],
      "execution_count": 42,
      "outputs": [
        {
          "output_type": "display_data",
          "data": {
            "application/vnd.jupyter.widget-view+json": {
              "model_id": "c8558c76211f498c8e20979c9672074d",
              "version_minor": 0,
              "version_major": 2
            },
            "text/plain": [
              "Tab(children=(Output(), Output()), _titles={'0': 'Youtube', '1': 'Bilibili'})"
            ]
          },
          "metadata": {
            "tags": []
          }
        }
      ]
    },
    {
      "cell_type": "markdown",
      "metadata": {
        "id": "SjrvKWk1uUiG"
      },
      "source": [
        "---\n",
        "# Section 5: Reflecting on what models\n",
        "\n",
        "*Estimated timing to here from start of tutorial: 40 min*"
      ]
    },
    {
      "cell_type": "markdown",
      "metadata": {
        "id": "jgS25l2PuUiH"
      },
      "source": [
        "## Think! 5: Reflecting on what models\n",
        "\n",
        "Please discuss the following questions for around 10 minutes with your group:\n",
        "- Have you seen what models before?\n",
        "- Have you ever done one?\n",
        "- Why are what models useful?\n",
        "- When are they possible? Does your field have what models?\n",
        "- What do we learn from constructing them?"
      ]
    },
    {
      "cell_type": "markdown",
      "metadata": {
        "id": "4JnkvtLnuUiI"
      },
      "source": [
        "---\n",
        "# Summary\n",
        "\n",
        "*Estimated timing of tutorial: 50 minutes*\n",
        "\n",
        "In this tutorial, we loaded some neural data and poked at it to understand how the dataset is organized. Then we made some basic plots to visualize (1) the average level of activity across the population and (2) the distribution of ISIs for an individual neuron. In the very last bit, we started to think about using mathematical formalisms to understand or explain some physiological phenomenon. All of this only allowed us to understand \"What\" the data looks like.\n",
        "\n",
        "This is the first step towards developing models that can tell us something about the brain. That's what we'll focus on in the next two tutorials."
      ]
    }
  ]
}